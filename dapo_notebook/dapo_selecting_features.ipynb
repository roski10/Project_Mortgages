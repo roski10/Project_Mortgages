{
 "cells": [
  {
   "cell_type": "code",
   "execution_count": 1,
   "id": "2d479e8d",
   "metadata": {},
   "outputs": [],
   "source": [
    "# --- Data Manipulation ---\n",
    "import pandas as pd\n",
    "\n",
    "# --- Defined Functions ---\n",
    "import sys\n",
    "sys.path.append('/home/adedapo/code/roski10/Project_Mortgages/ml_logic/')\n",
    "\n",
    "from clean_data import clean_data\n",
    "from preprocessing import preprocess_and_resample\n",
    "\n",
    "import warnings\n",
    "warnings.filterwarnings('ignore')\n",
    "\n",
    "from xgboost import XGBClassifier\n",
    "from sklearn.metrics import accuracy_score"
   ]
  },
  {
   "cell_type": "code",
   "execution_count": 2,
   "id": "79a4ca0e",
   "metadata": {},
   "outputs": [],
   "source": [
    "file = \"raw_data/Washington_State_HDMA-2016.csv\"\n",
    "data_original = pd.read_csv(file, decimal=',')"
   ]
  },
  {
   "cell_type": "code",
   "execution_count": 3,
   "id": "002751cd",
   "metadata": {},
   "outputs": [
    {
     "name": "stdout",
     "output_type": "stream",
     "text": [
      "\n",
      "✅ data cleaned\n"
     ]
    }
   ],
   "source": [
    "data = clean_data(data_original)"
   ]
  },
  {
   "cell_type": "code",
   "execution_count": 4,
   "id": "24bce9ac",
   "metadata": {},
   "outputs": [
    {
     "name": "stdout",
     "output_type": "stream",
     "text": [
      "\n",
      "✅ X_train_sm, with shape (311114, 67)\n",
      "✅ X_test_processed, with shape (84968, 67)\n",
      "✅ y_train_sm, with shape (311114,)\n",
      "✅ y_test, with shape (84968,)\n"
     ]
    }
   ],
   "source": [
    "X_train, X_test, y_train, y_test = preprocess_and_resample(data)"
   ]
  },
  {
   "cell_type": "code",
   "execution_count": 5,
   "id": "3c5cd084",
   "metadata": {},
   "outputs": [
    {
     "name": "stdout",
     "output_type": "stream",
     "text": [
      "Accuracy: 0.7888852273797194\n"
     ]
    }
   ],
   "source": [
    "# Define the XGBoost classifier\n",
    "xgb_clf = XGBClassifier(objective='binary:logistic', learning_rate= 0.3, n_estimators=200, reg_alpha=0.1, reg_lambda=0.5)\n",
    "\n",
    "# Train the classifier\n",
    "xgb_clf.fit(X_train, y_train)\n",
    "\n",
    "# Predict the test data\n",
    "y_pred = xgb_clf.predict(X_test)\n",
    "\n",
    "# Calculate the accuracy score\n",
    "accuracy = accuracy_score(y_test, y_pred)\n",
    "print('Accuracy:', accuracy)"
   ]
  },
  {
   "cell_type": "code",
   "execution_count": 6,
   "id": "d126b82f",
   "metadata": {},
   "outputs": [
    {
     "name": "stdout",
     "output_type": "stream",
     "text": [
      "applicant_sex_name_Male: 0.06180758774280548\n",
      "lien_status_name_Secured by a first lien: 0.04786307364702225\n",
      "loan_purpose_name_Home purchase: 0.04489203914999962\n",
      "applicant_race_name_1_White: 0.04250352084636688\n",
      "loan_type_name_FHA-insured: 0.040145840495824814\n",
      "agency_name_Federal Deposit Insurance Corporation: 0.03446587547659874\n",
      "co_applicant_race_name_1_White: 0.034317124634981155\n",
      "preapproval_name_Preapproval was not requested: 0.0335385724902153\n",
      "agency_name_Consumer Financial Protection Bureau: 0.03201712295413017\n",
      "hud_median_family_income: 0.03110465221107006\n",
      "loan_purpose_name_Home improvement: 0.02994738146662712\n",
      "agency_name_Department of Housing and Urban Development: 0.029164090752601624\n",
      "applicant_income_000s: 0.026687661185860634\n",
      "owner_occupancy_name_Not owner-occupied as a principal dwelling: 0.025766927748918533\n",
      "property_type_name_One-to-four family dwelling (other than manufactured housing): 0.024369705468416214\n",
      "applicant_ethnicity_name_Hispanic or Latino: 0.02433655597269535\n",
      "loan_type_name_VA-guaranteed: 0.02259971760213375\n",
      "owner_occupancy_name_Owner-occupied as a principal dwelling: 0.022498391568660736\n",
      "preapproval_name_Not applicable: 0.021265434101223946\n",
      "co_applicant_ethnicity_name_Not Hispanic or Latino: 0.019129488617181778\n",
      "property_type_name_Manufactured housing: 0.01906241476535797\n",
      "applicant_ethnicity_name_Not Hispanic or Latino: 0.01885075494647026\n",
      "applicant_sex_name_Not applicable: 0.016825299710035324\n",
      "loan_purpose_name_Refinancing: 0.01643209345638752\n",
      "preapproval_name_Preapproval was requested: 0.016228049993515015\n",
      "co_applicant_sex_name_Female: 0.01566896215081215\n",
      "loan_type_name_Conventional: 0.014699003659188747\n",
      "applicant_race_name_1_Black or African American: 0.014008826576173306\n",
      "region_Southwest Washington: 0.013422243297100067\n",
      "agency_name_Office of the Comptroller of the Currency: 0.013288013637065887\n",
      "region_Western Region: 0.013200569897890091\n",
      "lien_status_name_Secured by a subordinate lien: 0.013014121912419796\n",
      "co_applicant_sex_name_No co-applicant: 0.012080304324626923\n",
      "agency_name_National Credit Union Administration: 0.010668476112186909\n",
      "applicant_race_name_1_Asian: 0.010647137649357319\n",
      "co_applicant_ethnicity_name_Hispanic or Latino: 0.010057475417852402\n",
      "co_applicant_race_name_1_American Indian or Alaska Native: 0.009792403317987919\n",
      "loan_type_name_FSA/RHS-guaranteed: 0.00825351569801569\n",
      "co_applicant_race_name_1_Native Hawaiian or Other Pacific Islander: 0.007885887287557125\n",
      "applicant_race_name_1_Native Hawaiian or Other Pacific Islander: 0.0072079673409461975\n",
      "agency_name_Federal Reserve System: 0.006330100353807211\n",
      "lien_status_name_Not secured by a lien: 0.006256278604269028\n",
      "applicant_race_name_1_American Indian or Alaska Native: 0.006065876688808203\n",
      "co_applicant_race_name_1_Asian: 0.0057938904501497746\n",
      "region_Northern Cascades: 0.005665626842528582\n",
      "region_Eastern Washington: 0.005620782729238272\n",
      "co_applicant_race_name_1_Black or African American: 0.005608364474028349\n",
      "number_of_1_to_4_family_units: 0.00546613335609436\n",
      "loan_amount_000s: 0.005110784899443388\n",
      "population: 0.004878065548837185\n",
      "tract_to_msamd_income: 0.004815171472728252\n",
      "minority_population: 0.004636120982468128\n",
      "number_of_owner_occupied_units: 0.004416494630277157\n",
      "region_Olympic Peninsula: 0.004099751356989145\n",
      "co_applicant_sex_name_Male: 0.0039694346487522125\n",
      "applicant_ethnicity_name_Not applicable: 0.0034502071794122458\n",
      "property_type_name_Multifamily dwelling: 0.002424075733870268\n",
      "co_applicant_ethnicity_name_Not applicable: 0.0021269568242132664\n",
      "applicant_sex_name_Female: 0.0014762303326278925\n",
      "owner_occupancy_name_Not applicable: 0.0011336692841723561\n",
      "hoepa_status_name_HOEPA loan: 0.0009416661341674626\n",
      "hoepa_status_name_Not a HOEPA loan: 0.0\n",
      "co_applicant_sex_name_Not applicable: 0.0\n",
      "co_applicant_race_name_1_No co-applicant: 0.0\n",
      "co_applicant_race_name_1_Not applicable: 0.0\n",
      "co_applicant_ethnicity_name_No co-applicant: 0.0\n",
      "applicant_race_name_1_Not applicable: 0.0\n"
     ]
    }
   ],
   "source": [
    "# Get feature importances\n",
    "importances = xgb_clf.feature_importances_\n",
    "\n",
    "# Create a list of (feature, importance) tuples and sort it in descending order by importance\n",
    "feature_importances = list(zip(X_train.columns, importances))\n",
    "feature_importances.sort(key=lambda x: x[1], reverse=True)\n",
    "\n",
    "# Print feature importances in order of importance\n",
    "for feature, importance in feature_importances:\n",
    "    print(f\"{feature}: {importance}\")"
   ]
  },
  {
   "cell_type": "code",
   "execution_count": 7,
   "id": "937f5c4a",
   "metadata": {},
   "outputs": [
    {
     "name": "stdout",
     "output_type": "stream",
     "text": [
      "applicant_income_000s         0.084 +/- 0.001\n",
      "number_of_owner_occupied_units0.073 +/- 0.001\n",
      "number_of_1_to_4_family_units 0.061 +/- 0.001\n",
      "loan_amount_000s              0.041 +/- 0.001\n",
      "hud_median_family_income      0.027 +/- 0.001\n",
      "loan_purpose_name_Home purchase0.025 +/- 0.001\n",
      "tract_to_msamd_income         0.014 +/- 0.001\n",
      "population                    0.014 +/- 0.001\n",
      "region_Southwest Washington   0.014 +/- 0.000\n",
      "minority_population           0.012 +/- 0.001\n",
      "agency_name_Department of Housing and Urban Development0.009 +/- 0.001\n",
      "loan_type_name_Conventional   0.003 +/- 0.000\n",
      "loan_type_name_FHA-insured    0.002 +/- 0.000\n",
      "lien_status_name_Secured by a first lien0.002 +/- 0.000\n",
      "lien_status_name_Secured by a subordinate lien0.002 +/- 0.000\n",
      "owner_occupancy_name_Not owner-occupied as a principal dwelling0.001 +/- 0.000\n",
      "property_type_name_Manufactured housing0.001 +/- 0.000\n",
      "region_Western Region         0.001 +/- 0.000\n",
      "applicant_sex_name_Male       0.001 +/- 0.000\n",
      "region_Eastern Washington     0.001 +/- 0.000\n",
      "loan_type_name_FSA/RHS-guaranteed0.001 +/- 0.000\n",
      "loan_purpose_name_Home improvement0.001 +/- 0.000\n",
      "loan_type_name_VA-guaranteed  0.001 +/- 0.000\n",
      "region_Northern Cascades      0.000 +/- 0.000\n",
      "agency_name_Consumer Financial Protection Bureau0.000 +/- 0.000\n",
      "agency_name_Federal Reserve System0.000 +/- 0.000\n",
      "co_applicant_sex_name_Male    0.000 +/- 0.000\n",
      "applicant_ethnicity_name_Hispanic or Latino0.000 +/- 0.000\n",
      "applicant_race_name_1_American Indian or Alaska Native0.000 +/- 0.000\n",
      "property_type_name_One-to-four family dwelling (other than manufactured housing)0.000 +/- 0.000\n",
      "lien_status_name_Not secured by a lien0.000 +/- 0.000\n",
      "owner_occupancy_name_Owner-occupied as a principal dwelling0.000 +/- 0.000\n",
      "applicant_race_name_1_Asian   0.000 +/- 0.000\n",
      "property_type_name_Multifamily dwelling0.000 +/- 0.000\n",
      "agency_name_National Credit Union Administration0.000 +/- 0.000\n",
      "loan_purpose_name_Refinancing 0.000 +/- 0.000\n",
      "applicant_race_name_1_Black or African American0.000 +/- 0.000\n",
      "co_applicant_race_name_1_Black or African American0.000 +/- 0.000\n",
      "applicant_ethnicity_name_Not applicable0.000 +/- 0.000\n",
      "owner_occupancy_name_Not applicable0.000 +/- 0.000\n",
      "applicant_ethnicity_name_Not Hispanic or Latino0.000 +/- 0.000\n",
      "region_Olympic Peninsula      0.000 +/- 0.000\n",
      "applicant_sex_name_Female     0.000 +/- 0.000\n",
      "agency_name_Office of the Comptroller of the Currency0.000 +/- 0.000\n",
      "co_applicant_ethnicity_name_Hispanic or Latino0.000 +/- 0.000\n",
      "co_applicant_ethnicity_name_Not applicable0.000 +/- 0.000\n",
      "applicant_sex_name_Not applicable0.000 +/- 0.000\n",
      "applicant_race_name_1_Native Hawaiian or Other Pacific Islander0.000 +/- 0.000\n",
      "co_applicant_ethnicity_name_No co-applicant0.000 +/- 0.000\n",
      "co_applicant_race_name_1_No co-applicant0.000 +/- 0.000\n",
      "co_applicant_race_name_1_Not applicable0.000 +/- 0.000\n",
      "hoepa_status_name_Not a HOEPA loan0.000 +/- 0.000\n",
      "co_applicant_sex_name_Not applicable0.000 +/- 0.000\n",
      "applicant_race_name_1_Not applicable0.000 +/- 0.000\n",
      "preapproval_name_Preapproval was not requested-0.000 +/- 0.000\n",
      "hoepa_status_name_HOEPA loan  -0.000 +/- 0.000\n",
      "co_applicant_race_name_1_American Indian or Alaska Native-0.000 +/- 0.000\n",
      "co_applicant_race_name_1_Asian-0.000 +/- 0.000\n",
      "preapproval_name_Preapproval was requested-0.000 +/- 0.000\n",
      "co_applicant_race_name_1_Native Hawaiian or Other Pacific Islander-0.000 +/- 0.000\n",
      "applicant_race_name_1_White   -0.000 +/- 0.000\n",
      "preapproval_name_Not applicable-0.000 +/- 0.000\n",
      "co_applicant_ethnicity_name_Not Hispanic or Latino-0.000 +/- 0.000\n",
      "co_applicant_sex_name_No co-applicant-0.000 +/- 0.000\n",
      "agency_name_Federal Deposit Insurance Corporation-0.001 +/- 0.000\n",
      "co_applicant_sex_name_Female  -0.001 +/- 0.000\n",
      "co_applicant_race_name_1_White-0.002 +/- 0.000\n"
     ]
    }
   ],
   "source": [
    "from sklearn.inspection import permutation_importance\n",
    "\n",
    "# Compute feature importance with permutation\n",
    "result = permutation_importance(xgb_clf, X_test, y_test, n_repeats=10)\n",
    "\n",
    "# Print feature importance\n",
    "for i in result.importances_mean.argsort()[::-1]:\n",
    "    print(f\"{X_train.columns[i]:<30}\"\n",
    "          f\"{result.importances_mean[i]:.3f}\"\n",
    "          f\" +/- {result.importances_std[i]:.3f}\")"
   ]
  }
 ],
 "metadata": {
  "kernelspec": {
   "display_name": "Python 3 (ipykernel)",
   "language": "python",
   "name": "python3"
  },
  "language_info": {
   "codemirror_mode": {
    "name": "ipython",
    "version": 3
   },
   "file_extension": ".py",
   "mimetype": "text/x-python",
   "name": "python",
   "nbconvert_exporter": "python",
   "pygments_lexer": "ipython3",
   "version": "3.10.6"
  },
  "toc": {
   "base_numbering": 1,
   "nav_menu": {},
   "number_sections": true,
   "sideBar": true,
   "skip_h1_title": false,
   "title_cell": "Table of Contents",
   "title_sidebar": "Contents",
   "toc_cell": false,
   "toc_position": {},
   "toc_section_display": true,
   "toc_window_display": false
  }
 },
 "nbformat": 4,
 "nbformat_minor": 5
}
