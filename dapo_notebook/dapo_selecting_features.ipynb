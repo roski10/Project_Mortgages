{
 "cells": [
  {
   "cell_type": "code",
   "execution_count": 1,
   "id": "2d479e8d",
   "metadata": {},
   "outputs": [],
   "source": [
    "# --- Data Manipulation ---\n",
    "import pandas as pd\n",
    "\n",
    "# --- Defined Functions ---\n",
    "import sys\n",
    "sys.path.append('/home/adedapo/code/roski10/Project_Mortgages/ml_logic/')\n",
    "\n",
    "from clean_data import clean_data\n",
    "from preprocessing import preprocess_and_resample\n",
    "\n",
    "import warnings\n",
    "warnings.filterwarnings('ignore')\n",
    "\n",
    "from xgboost import XGBClassifier\n",
    "from sklearn.metrics import accuracy_score"
   ]
  },
  {
   "cell_type": "code",
   "execution_count": 2,
   "id": "79a4ca0e",
   "metadata": {},
   "outputs": [],
   "source": [
    "file = \"raw_data/Washington_State_HDMA-2016.csv\"\n",
    "data_original = pd.read_csv(file, decimal=',')"
   ]
  },
  {
   "cell_type": "code",
   "execution_count": 3,
   "id": "002751cd",
   "metadata": {},
   "outputs": [
    {
     "name": "stdout",
     "output_type": "stream",
     "text": [
      "\n",
      "✅ data cleaned\n"
     ]
    }
   ],
   "source": [
    "data = clean_data(data_original)"
   ]
  },
  {
   "cell_type": "code",
   "execution_count": 4,
   "id": "24bce9ac",
   "metadata": {},
   "outputs": [
    {
     "name": "stdout",
     "output_type": "stream",
     "text": [
      "\n",
      "✅ X_train_sm, with shape (310356, 67)\n",
      "✅ X_test, with shape (84968, 67)\n",
      "✅ y_train_sm, with shape (310356,)\n",
      "✅ y_test, with shape (84968,)\n"
     ]
    }
   ],
   "source": [
    "X_train, X_test, y_train, y_test = preprocess_and_resample(data)"
   ]
  },
  {
   "cell_type": "code",
   "execution_count": 5,
   "id": "3c5cd084",
   "metadata": {},
   "outputs": [
    {
     "name": "stdout",
     "output_type": "stream",
     "text": [
      "Accuracy: 0.7894030693908295\n"
     ]
    }
   ],
   "source": [
    "# Define the XGBoost classifier\n",
    "xgb_clf = XGBClassifier(objective='binary:logistic', learning_rate= 0.3, n_estimators=200, reg_alpha=0.1, reg_lambda=0.5)\n",
    "\n",
    "# Train the classifier\n",
    "xgb_clf.fit(X_train, y_train)\n",
    "\n",
    "# Predict the test data\n",
    "y_pred = xgb_clf.predict(X_test)\n",
    "\n",
    "# Calculate the accuracy score\n",
    "accuracy = accuracy_score(y_test, y_pred)\n",
    "print('Accuracy:', accuracy)"
   ]
  },
  {
   "cell_type": "code",
   "execution_count": 6,
   "id": "d126b82f",
   "metadata": {},
   "outputs": [
    {
     "name": "stdout",
     "output_type": "stream",
     "text": [
      "onehotencoder__applicant_sex_name_Male: 0.06484796851873398\n",
      "onehotencoder__loan_purpose_name_Home purchase: 0.043750178068876266\n",
      "onehotencoder__lien_status_name_Secured by a first lien: 0.04297970235347748\n",
      "onehotencoder__agency_name_Consumer Financial Protection Bureau: 0.04018291085958481\n",
      "onehotencoder__loan_type_name_FHA-insured: 0.03470155596733093\n",
      "onehotencoder__preapproval_name_Preapproval was not requested: 0.033214271068573\n",
      "onehotencoder__loan_type_name_VA-guaranteed: 0.03239839896559715\n",
      "onehotencoder__applicant_race_name_1_White: 0.03192327916622162\n",
      "onehotencoder__co_applicant_race_name_1_White: 0.03160567209124565\n",
      "onehotencoder__agency_name_Department of Housing and Urban Development: 0.03128965198993683\n",
      "onehotencoder__loan_purpose_name_Home improvement: 0.030304670333862305\n",
      "onehotencoder__agency_name_Federal Deposit Insurance Corporation: 0.028848225250840187\n",
      "pipeline__hud_median_family_income: 0.028486331924796104\n",
      "onehotencoder__property_type_name_Manufactured housing: 0.027611233294010162\n",
      "pipeline__applicant_income_000s: 0.026478534564375877\n",
      "onehotencoder__applicant_race_name_1_Black or African American: 0.025165442377328873\n",
      "onehotencoder__preapproval_name_Not applicable: 0.0249104555696249\n",
      "onehotencoder__applicant_ethnicity_name_Hispanic or Latino: 0.024301864206790924\n",
      "onehotencoder__owner_occupancy_name_Not owner-occupied as a principal dwelling: 0.023751161992549896\n",
      "onehotencoder__co_applicant_ethnicity_name_Not Hispanic or Latino: 0.02340860851109028\n",
      "onehotencoder__applicant_ethnicity_name_Not Hispanic or Latino: 0.02132619172334671\n",
      "onehotencoder__preapproval_name_Preapproval was requested: 0.019188351929187775\n",
      "onehotencoder__loan_purpose_name_Refinancing: 0.018035463988780975\n",
      "onehotencoder__region_Western Region: 0.01722700148820877\n",
      "onehotencoder__owner_occupancy_name_Owner-occupied as a principal dwelling: 0.015335988253355026\n",
      "onehotencoder__property_type_name_One-to-four family dwelling (other than manufactured housing): 0.015242391265928745\n",
      "onehotencoder__region_Southwest Washington: 0.014813228510320187\n",
      "onehotencoder__co_applicant_race_name_1_American Indian or Alaska Native: 0.012881469912827015\n",
      "onehotencoder__co_applicant_sex_name_Female: 0.01219620369374752\n",
      "onehotencoder__co_applicant_ethnicity_name_Hispanic or Latino: 0.01124528981745243\n",
      "onehotencoder__loan_type_name_Conventional: 0.01108282245695591\n",
      "onehotencoder__lien_status_name_Secured by a subordinate lien: 0.01086532510817051\n",
      "onehotencoder__co_applicant_race_name_1_Native Hawaiian or Other Pacific Islander: 0.010751219466328621\n",
      "onehotencoder__agency_name_Office of the Comptroller of the Currency: 0.010408919304609299\n",
      "onehotencoder__co_applicant_race_name_1_Asian: 0.01035732589662075\n",
      "onehotencoder__applicant_race_name_1_Native Hawaiian or Other Pacific Islander: 0.010254297405481339\n",
      "onehotencoder__agency_name_Federal Reserve System: 0.010168449953198433\n",
      "onehotencoder__region_Northern Cascades: 0.009702981449663639\n",
      "onehotencoder__applicant_race_name_1_American Indian or Alaska Native: 0.008799087256193161\n",
      "onehotencoder__agency_name_National Credit Union Administration: 0.00859070010483265\n",
      "onehotencoder__applicant_race_name_1_Asian: 0.008588028140366077\n",
      "onehotencoder__loan_type_name_FSA/RHS-guaranteed: 0.00794173963367939\n",
      "onehotencoder__region_Eastern Washington: 0.006561082322150469\n",
      "onehotencoder__applicant_race_name_1_Not applicable: 0.005683089140802622\n",
      "pipeline__population: 0.005077349953353405\n",
      "pipeline__number_of_1_to_4_family_units: 0.005035032983869314\n",
      "pipeline__loan_amount_000s: 0.004958939738571644\n",
      "pipeline__tract_to_msamd_income: 0.0046654632315039635\n",
      "pipeline__minority_population: 0.004559280350804329\n",
      "pipeline__number_of_owner_occupied_units: 0.0045126318000257015\n",
      "onehotencoder__co_applicant_race_name_1_Black or African American: 0.00450321938842535\n",
      "onehotencoder__applicant_sex_name_Not applicable: 0.004255013074725866\n",
      "onehotencoder__co_applicant_sex_name_No co-applicant: 0.004100507590919733\n",
      "onehotencoder__lien_status_name_Not secured by a lien: 0.003703105729073286\n",
      "onehotencoder__co_applicant_sex_name_Male: 0.0032867116387933493\n",
      "onehotencoder__co_applicant_sex_name_Not applicable: 0.002468187129124999\n",
      "onehotencoder__applicant_sex_name_Female: 0.0024513842072337866\n",
      "onehotencoder__applicant_ethnicity_name_Not applicable: 0.0023862887173891068\n",
      "onehotencoder__region_Olympic Peninsula: 0.002172424690797925\n",
      "onehotencoder__co_applicant_ethnicity_name_Not applicable: 0.0014420324005186558\n",
      "onehotencoder__owner_occupancy_name_Not applicable: 0.0010753084206953645\n",
      "onehotencoder__property_type_name_Multifamily dwelling: 0.0009726133430376649\n",
      "onehotencoder__hoepa_status_name_HOEPA loan: 0.0009678073110990226\n",
      "onehotencoder__hoepa_status_name_Not a HOEPA loan: 0.0\n",
      "onehotencoder__co_applicant_race_name_1_No co-applicant: 0.0\n",
      "onehotencoder__co_applicant_race_name_1_Not applicable: 0.0\n",
      "onehotencoder__co_applicant_ethnicity_name_No co-applicant: 0.0\n"
     ]
    }
   ],
   "source": [
    "# Get feature importances\n",
    "importances = xgb_clf.feature_importances_\n",
    "\n",
    "# Create a list of (feature, importance) tuples and sort it in descending order by importance\n",
    "feature_importances = list(zip(X_train.columns, importances))\n",
    "feature_importances.sort(key=lambda x: x[1], reverse=True)\n",
    "\n",
    "# Print feature importances in order of importance\n",
    "for feature, importance in feature_importances:\n",
    "    print(f\"{feature}: {importance}\")"
   ]
  },
  {
   "cell_type": "code",
   "execution_count": 8,
   "id": "937f5c4a",
   "metadata": {},
   "outputs": [
    {
     "name": "stdout",
     "output_type": "stream",
     "text": [
      "pipeline__applicant_income_000s0.081 +/- 0.002\n",
      "pipeline__number_of_owner_occupied_units0.046 +/- 0.001\n",
      "pipeline__loan_amount_000s    0.037 +/- 0.001\n",
      "onehotencoder__loan_purpose_name_Home purchase0.032 +/- 0.001\n",
      "pipeline__number_of_1_to_4_family_units0.027 +/- 0.001\n",
      "pipeline__hud_median_family_income0.021 +/- 0.001\n",
      "pipeline__tract_to_msamd_income0.020 +/- 0.001\n",
      "pipeline__minority_population 0.014 +/- 0.000\n",
      "pipeline__population          0.013 +/- 0.000\n",
      "onehotencoder__loan_type_name_Conventional0.009 +/- 0.000\n",
      "onehotencoder__agency_name_Department of Housing and Urban Development0.009 +/- 0.001\n",
      "onehotencoder__region_Southwest Washington0.008 +/- 0.000\n",
      "onehotencoder__loan_type_name_FHA-insured0.003 +/- 0.000\n",
      "onehotencoder__applicant_sex_name_Male0.003 +/- 0.000\n",
      "onehotencoder__lien_status_name_Secured by a first lien0.003 +/- 0.000\n",
      "onehotencoder__loan_type_name_VA-guaranteed0.002 +/- 0.000\n",
      "onehotencoder__applicant_sex_name_Female0.002 +/- 0.000\n",
      "onehotencoder__region_Eastern Washington0.002 +/- 0.000\n",
      "onehotencoder__loan_purpose_name_Home improvement0.001 +/- 0.000\n",
      "onehotencoder__property_type_name_Manufactured housing0.001 +/- 0.000\n",
      "onehotencoder__owner_occupancy_name_Not owner-occupied as a principal dwelling0.001 +/- 0.000\n",
      "onehotencoder__region_Western Region0.001 +/- 0.000\n",
      "onehotencoder__agency_name_National Credit Union Administration0.001 +/- 0.000\n",
      "onehotencoder__loan_type_name_FSA/RHS-guaranteed0.001 +/- 0.000\n",
      "onehotencoder__lien_status_name_Secured by a subordinate lien0.000 +/- 0.000\n",
      "onehotencoder__lien_status_name_Not secured by a lien0.000 +/- 0.000\n",
      "onehotencoder__applicant_ethnicity_name_Hispanic or Latino0.000 +/- 0.000\n",
      "onehotencoder__region_Northern Cascades0.000 +/- 0.000\n",
      "onehotencoder__co_applicant_sex_name_Male0.000 +/- 0.000\n",
      "onehotencoder__property_type_name_One-to-four family dwelling (other than manufactured housing)0.000 +/- 0.000\n",
      "onehotencoder__applicant_race_name_1_American Indian or Alaska Native0.000 +/- 0.000\n",
      "onehotencoder__agency_name_Federal Reserve System0.000 +/- 0.000\n",
      "onehotencoder__co_applicant_sex_name_No co-applicant0.000 +/- 0.000\n",
      "onehotencoder__applicant_ethnicity_name_Not Hispanic or Latino0.000 +/- 0.000\n",
      "onehotencoder__applicant_race_name_1_Black or African American0.000 +/- 0.000\n",
      "onehotencoder__co_applicant_race_name_1_American Indian or Alaska Native0.000 +/- 0.000\n",
      "onehotencoder__applicant_ethnicity_name_Not applicable0.000 +/- 0.000\n",
      "onehotencoder__agency_name_Office of the Comptroller of the Currency0.000 +/- 0.000\n",
      "onehotencoder__co_applicant_ethnicity_name_Not applicable0.000 +/- 0.000\n",
      "onehotencoder__region_Olympic Peninsula0.000 +/- 0.000\n",
      "onehotencoder__hoepa_status_name_HOEPA loan0.000 +/- 0.000\n",
      "onehotencoder__co_applicant_sex_name_Not applicable0.000 +/- 0.000\n",
      "onehotencoder__co_applicant_race_name_1_No co-applicant0.000 +/- 0.000\n",
      "onehotencoder__co_applicant_ethnicity_name_No co-applicant0.000 +/- 0.000\n",
      "onehotencoder__property_type_name_Multifamily dwelling0.000 +/- 0.000\n",
      "onehotencoder__co_applicant_race_name_1_Not applicable0.000 +/- 0.000\n",
      "onehotencoder__hoepa_status_name_Not a HOEPA loan0.000 +/- 0.000\n",
      "onehotencoder__owner_occupancy_name_Not applicable-0.000 +/- 0.000\n",
      "onehotencoder__preapproval_name_Preapproval was not requested-0.000 +/- 0.000\n",
      "onehotencoder__applicant_sex_name_Not applicable-0.000 +/- 0.000\n",
      "onehotencoder__applicant_race_name_1_Not applicable-0.000 +/- 0.000\n",
      "onehotencoder__applicant_race_name_1_Native Hawaiian or Other Pacific Islander-0.000 +/- 0.000\n",
      "onehotencoder__co_applicant_race_name_1_White-0.000 +/- 0.000\n",
      "onehotencoder__co_applicant_race_name_1_Black or African American-0.000 +/- 0.000\n",
      "onehotencoder__owner_occupancy_name_Owner-occupied as a principal dwelling-0.000 +/- 0.000\n",
      "onehotencoder__co_applicant_race_name_1_Native Hawaiian or Other Pacific Islander-0.000 +/- 0.000\n",
      "onehotencoder__preapproval_name_Preapproval was requested-0.000 +/- 0.000\n",
      "onehotencoder__co_applicant_ethnicity_name_Hispanic or Latino-0.000 +/- 0.000\n",
      "onehotencoder__applicant_race_name_1_Asian-0.000 +/- 0.000\n",
      "onehotencoder__applicant_race_name_1_White-0.000 +/- 0.000\n",
      "onehotencoder__co_applicant_race_name_1_Asian-0.000 +/- 0.000\n",
      "onehotencoder__preapproval_name_Not applicable-0.000 +/- 0.000\n",
      "onehotencoder__co_applicant_ethnicity_name_Not Hispanic or Latino-0.001 +/- 0.000\n",
      "onehotencoder__co_applicant_sex_name_Female-0.001 +/- 0.000\n",
      "onehotencoder__agency_name_Consumer Financial Protection Bureau-0.001 +/- 0.000\n",
      "onehotencoder__agency_name_Federal Deposit Insurance Corporation-0.001 +/- 0.000\n",
      "onehotencoder__loan_purpose_name_Refinancing-0.001 +/- 0.000\n"
     ]
    }
   ],
   "source": [
    "from sklearn.inspection import permutation_importance\n",
    "\n",
    "# Compute feature importance with permutation\n",
    "result = permutation_importance(xgb_clf, X_test, y_test, n_repeats=10)\n",
    "\n",
    "# Print feature importance\n",
    "for i in result.importances_mean.argsort()[::-1]:\n",
    "    print(f\"{X_train.columns[i]:<30}\"\n",
    "          f\"{result.importances_mean[i]:.3f}\"\n",
    "          f\" +/- {result.importances_std[i]:.3f}\")"
   ]
  }
 ],
 "metadata": {
  "kernelspec": {
   "display_name": "Python 3 (ipykernel)",
   "language": "python",
   "name": "python3"
  },
  "language_info": {
   "codemirror_mode": {
    "name": "ipython",
    "version": 3
   },
   "file_extension": ".py",
   "mimetype": "text/x-python",
   "name": "python",
   "nbconvert_exporter": "python",
   "pygments_lexer": "ipython3",
   "version": "3.10.6"
  },
  "toc": {
   "base_numbering": 1,
   "nav_menu": {},
   "number_sections": true,
   "sideBar": true,
   "skip_h1_title": false,
   "title_cell": "Table of Contents",
   "title_sidebar": "Contents",
   "toc_cell": false,
   "toc_position": {},
   "toc_section_display": true,
   "toc_window_display": false
  }
 },
 "nbformat": 4,
 "nbformat_minor": 5
}
