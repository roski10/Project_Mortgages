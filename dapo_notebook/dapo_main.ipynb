{
 "cells": [
  {
   "cell_type": "code",
   "execution_count": 1,
   "id": "63ca3c49",
   "metadata": {},
   "outputs": [],
   "source": [
    "import sys\n",
    "sys.path.append('/home/adedapo/code/roski10/Project_Mortgages/ml_logic/')\n",
    "\n",
    "import os\n",
    "import pandas as pd\n",
    "from clean_data import clean_data\n",
    "from preprocessing import  preprocess_and_resample\n",
    "from model import train_and_evaluate_model"
   ]
  },
  {
   "cell_type": "code",
   "execution_count": 3,
   "id": "6dbd8570",
   "metadata": {},
   "outputs": [
    {
     "name": "stderr",
     "output_type": "stream",
     "text": [
      "/tmp/ipykernel_3761/2404787794.py:2: DtypeWarning: Columns (1,23,24,25,28,29,30,38,39,40) have mixed types. Specify dtype option on import or set low_memory=False.\n",
      "  data_original = pd.read_csv(file, decimal=',')\n"
     ]
    },
    {
     "name": "stdout",
     "output_type": "stream",
     "text": [
      "\n",
      "✅ data cleaned\n"
     ]
    }
   ],
   "source": [
    "file = \"raw_data/Washington_State_HDMA-2016.csv\"\n",
    "data_original = pd.read_csv(file, decimal=',')\n",
    "data = clean_data(data_original)"
   ]
  },
  {
   "cell_type": "code",
   "execution_count": 4,
   "id": "873d5cae",
   "metadata": {},
   "outputs": [
    {
     "name": "stdout",
     "output_type": "stream",
     "text": [
      "\n",
      "✅ X_train_sm, with shape (310684, 67)\n",
      "✅ X_test_processed, with shape (84968, 67)\n",
      "✅ y_train_sm, with shape (310684,)\n",
      "✅ y_test, with shape (84968,)\n"
     ]
    }
   ],
   "source": [
    "X_train, X_test, y_train, y_test, preprocessor = preprocess_and_resample(data)"
   ]
  },
  {
   "cell_type": "code",
   "execution_count": 5,
   "id": "c7264d7c",
   "metadata": {},
   "outputs": [
    {
     "data": {
      "text/html": [
       "<style>#sk-container-id-1 {color: black;background-color: white;}#sk-container-id-1 pre{padding: 0;}#sk-container-id-1 div.sk-toggleable {background-color: white;}#sk-container-id-1 label.sk-toggleable__label {cursor: pointer;display: block;width: 100%;margin-bottom: 0;padding: 0.3em;box-sizing: border-box;text-align: center;}#sk-container-id-1 label.sk-toggleable__label-arrow:before {content: \"▸\";float: left;margin-right: 0.25em;color: #696969;}#sk-container-id-1 label.sk-toggleable__label-arrow:hover:before {color: black;}#sk-container-id-1 div.sk-estimator:hover label.sk-toggleable__label-arrow:before {color: black;}#sk-container-id-1 div.sk-toggleable__content {max-height: 0;max-width: 0;overflow: hidden;text-align: left;background-color: #f0f8ff;}#sk-container-id-1 div.sk-toggleable__content pre {margin: 0.2em;color: black;border-radius: 0.25em;background-color: #f0f8ff;}#sk-container-id-1 input.sk-toggleable__control:checked~div.sk-toggleable__content {max-height: 200px;max-width: 100%;overflow: auto;}#sk-container-id-1 input.sk-toggleable__control:checked~label.sk-toggleable__label-arrow:before {content: \"▾\";}#sk-container-id-1 div.sk-estimator input.sk-toggleable__control:checked~label.sk-toggleable__label {background-color: #d4ebff;}#sk-container-id-1 div.sk-label input.sk-toggleable__control:checked~label.sk-toggleable__label {background-color: #d4ebff;}#sk-container-id-1 input.sk-hidden--visually {border: 0;clip: rect(1px 1px 1px 1px);clip: rect(1px, 1px, 1px, 1px);height: 1px;margin: -1px;overflow: hidden;padding: 0;position: absolute;width: 1px;}#sk-container-id-1 div.sk-estimator {font-family: monospace;background-color: #f0f8ff;border: 1px dotted black;border-radius: 0.25em;box-sizing: border-box;margin-bottom: 0.5em;}#sk-container-id-1 div.sk-estimator:hover {background-color: #d4ebff;}#sk-container-id-1 div.sk-parallel-item::after {content: \"\";width: 100%;border-bottom: 1px solid gray;flex-grow: 1;}#sk-container-id-1 div.sk-label:hover label.sk-toggleable__label {background-color: #d4ebff;}#sk-container-id-1 div.sk-serial::before {content: \"\";position: absolute;border-left: 1px solid gray;box-sizing: border-box;top: 0;bottom: 0;left: 50%;z-index: 0;}#sk-container-id-1 div.sk-serial {display: flex;flex-direction: column;align-items: center;background-color: white;padding-right: 0.2em;padding-left: 0.2em;position: relative;}#sk-container-id-1 div.sk-item {position: relative;z-index: 1;}#sk-container-id-1 div.sk-parallel {display: flex;align-items: stretch;justify-content: center;background-color: white;position: relative;}#sk-container-id-1 div.sk-item::before, #sk-container-id-1 div.sk-parallel-item::before {content: \"\";position: absolute;border-left: 1px solid gray;box-sizing: border-box;top: 0;bottom: 0;left: 50%;z-index: -1;}#sk-container-id-1 div.sk-parallel-item {display: flex;flex-direction: column;z-index: 1;position: relative;background-color: white;}#sk-container-id-1 div.sk-parallel-item:first-child::after {align-self: flex-end;width: 50%;}#sk-container-id-1 div.sk-parallel-item:last-child::after {align-self: flex-start;width: 50%;}#sk-container-id-1 div.sk-parallel-item:only-child::after {width: 0;}#sk-container-id-1 div.sk-dashed-wrapped {border: 1px dashed gray;margin: 0 0.4em 0.5em 0.4em;box-sizing: border-box;padding-bottom: 0.4em;background-color: white;}#sk-container-id-1 div.sk-label label {font-family: monospace;font-weight: bold;display: inline-block;line-height: 1.2em;}#sk-container-id-1 div.sk-label-container {text-align: center;}#sk-container-id-1 div.sk-container {/* jupyter's `normalize.less` sets `[hidden] { display: none; }` but bootstrap.min.css set `[hidden] { display: none !important; }` so we also need the `!important` here to be able to override the default hidden behavior on the sphinx rendered scikit-learn.org. See: https://github.com/scikit-learn/scikit-learn/issues/21755 */display: inline-block !important;position: relative;}#sk-container-id-1 div.sk-text-repr-fallback {display: none;}</style><div id=\"sk-container-id-1\" class=\"sk-top-container\"><div class=\"sk-text-repr-fallback\"><pre>ColumnTransformer(remainder=&#x27;passthrough&#x27;, sparse_threshold=0.1,\n",
       "                  transformers=[(&#x27;pipeline&#x27;,\n",
       "                                 Pipeline(steps=[(&#x27;simpleimputer&#x27;,\n",
       "                                                  SimpleImputer(strategy=&#x27;median&#x27;)),\n",
       "                                                 (&#x27;standardscaler&#x27;,\n",
       "                                                  StandardScaler())]),\n",
       "                                 [&#x27;tract_to_msamd_income&#x27;, &#x27;population&#x27;,\n",
       "                                  &#x27;minority_population&#x27;,\n",
       "                                  &#x27;number_of_owner_occupied_units&#x27;,\n",
       "                                  &#x27;number_of_1_to_4_family_units&#x27;,\n",
       "                                  &#x27;loan_amount_000s&#x27;,\n",
       "                                  &#x27;hud_median_...\n",
       "                                (&#x27;onehotencoder&#x27;, OneHotEncoder(),\n",
       "                                 [&#x27;property_type_name&#x27;, &#x27;preapproval_name&#x27;,\n",
       "                                  &#x27;owner_occupancy_name&#x27;, &#x27;loan_type_name&#x27;,\n",
       "                                  &#x27;loan_purpose_name&#x27;, &#x27;lien_status_name&#x27;,\n",
       "                                  &#x27;hoepa_status_name&#x27;, &#x27;co_applicant_sex_name&#x27;,\n",
       "                                  &#x27;co_applicant_race_name_1&#x27;,\n",
       "                                  &#x27;co_applicant_ethnicity_name&#x27;,\n",
       "                                  &#x27;applicant_sex_name&#x27;, &#x27;applicant_race_name_1&#x27;,\n",
       "                                  &#x27;applicant_ethnicity_name&#x27;, &#x27;agency_name&#x27;,\n",
       "                                  &#x27;region&#x27;])])</pre><b>In a Jupyter environment, please rerun this cell to show the HTML representation or trust the notebook. <br />On GitHub, the HTML representation is unable to render, please try loading this page with nbviewer.org.</b></div><div class=\"sk-container\" hidden><div class=\"sk-item sk-dashed-wrapped\"><div class=\"sk-label-container\"><div class=\"sk-label sk-toggleable\"><input class=\"sk-toggleable__control sk-hidden--visually\" id=\"sk-estimator-id-1\" type=\"checkbox\" ><label for=\"sk-estimator-id-1\" class=\"sk-toggleable__label sk-toggleable__label-arrow\">ColumnTransformer</label><div class=\"sk-toggleable__content\"><pre>ColumnTransformer(remainder=&#x27;passthrough&#x27;, sparse_threshold=0.1,\n",
       "                  transformers=[(&#x27;pipeline&#x27;,\n",
       "                                 Pipeline(steps=[(&#x27;simpleimputer&#x27;,\n",
       "                                                  SimpleImputer(strategy=&#x27;median&#x27;)),\n",
       "                                                 (&#x27;standardscaler&#x27;,\n",
       "                                                  StandardScaler())]),\n",
       "                                 [&#x27;tract_to_msamd_income&#x27;, &#x27;population&#x27;,\n",
       "                                  &#x27;minority_population&#x27;,\n",
       "                                  &#x27;number_of_owner_occupied_units&#x27;,\n",
       "                                  &#x27;number_of_1_to_4_family_units&#x27;,\n",
       "                                  &#x27;loan_amount_000s&#x27;,\n",
       "                                  &#x27;hud_median_...\n",
       "                                (&#x27;onehotencoder&#x27;, OneHotEncoder(),\n",
       "                                 [&#x27;property_type_name&#x27;, &#x27;preapproval_name&#x27;,\n",
       "                                  &#x27;owner_occupancy_name&#x27;, &#x27;loan_type_name&#x27;,\n",
       "                                  &#x27;loan_purpose_name&#x27;, &#x27;lien_status_name&#x27;,\n",
       "                                  &#x27;hoepa_status_name&#x27;, &#x27;co_applicant_sex_name&#x27;,\n",
       "                                  &#x27;co_applicant_race_name_1&#x27;,\n",
       "                                  &#x27;co_applicant_ethnicity_name&#x27;,\n",
       "                                  &#x27;applicant_sex_name&#x27;, &#x27;applicant_race_name_1&#x27;,\n",
       "                                  &#x27;applicant_ethnicity_name&#x27;, &#x27;agency_name&#x27;,\n",
       "                                  &#x27;region&#x27;])])</pre></div></div></div><div class=\"sk-parallel\"><div class=\"sk-parallel-item\"><div class=\"sk-item\"><div class=\"sk-label-container\"><div class=\"sk-label sk-toggleable\"><input class=\"sk-toggleable__control sk-hidden--visually\" id=\"sk-estimator-id-2\" type=\"checkbox\" ><label for=\"sk-estimator-id-2\" class=\"sk-toggleable__label sk-toggleable__label-arrow\">pipeline</label><div class=\"sk-toggleable__content\"><pre>[&#x27;tract_to_msamd_income&#x27;, &#x27;population&#x27;, &#x27;minority_population&#x27;, &#x27;number_of_owner_occupied_units&#x27;, &#x27;number_of_1_to_4_family_units&#x27;, &#x27;loan_amount_000s&#x27;, &#x27;hud_median_family_income&#x27;, &#x27;applicant_income_000s&#x27;]</pre></div></div></div><div class=\"sk-serial\"><div class=\"sk-item\"><div class=\"sk-serial\"><div class=\"sk-item\"><div class=\"sk-estimator sk-toggleable\"><input class=\"sk-toggleable__control sk-hidden--visually\" id=\"sk-estimator-id-3\" type=\"checkbox\" ><label for=\"sk-estimator-id-3\" class=\"sk-toggleable__label sk-toggleable__label-arrow\">SimpleImputer</label><div class=\"sk-toggleable__content\"><pre>SimpleImputer(strategy=&#x27;median&#x27;)</pre></div></div></div><div class=\"sk-item\"><div class=\"sk-estimator sk-toggleable\"><input class=\"sk-toggleable__control sk-hidden--visually\" id=\"sk-estimator-id-4\" type=\"checkbox\" ><label for=\"sk-estimator-id-4\" class=\"sk-toggleable__label sk-toggleable__label-arrow\">StandardScaler</label><div class=\"sk-toggleable__content\"><pre>StandardScaler()</pre></div></div></div></div></div></div></div></div><div class=\"sk-parallel-item\"><div class=\"sk-item\"><div class=\"sk-label-container\"><div class=\"sk-label sk-toggleable\"><input class=\"sk-toggleable__control sk-hidden--visually\" id=\"sk-estimator-id-5\" type=\"checkbox\" ><label for=\"sk-estimator-id-5\" class=\"sk-toggleable__label sk-toggleable__label-arrow\">onehotencoder</label><div class=\"sk-toggleable__content\"><pre>[&#x27;property_type_name&#x27;, &#x27;preapproval_name&#x27;, &#x27;owner_occupancy_name&#x27;, &#x27;loan_type_name&#x27;, &#x27;loan_purpose_name&#x27;, &#x27;lien_status_name&#x27;, &#x27;hoepa_status_name&#x27;, &#x27;co_applicant_sex_name&#x27;, &#x27;co_applicant_race_name_1&#x27;, &#x27;co_applicant_ethnicity_name&#x27;, &#x27;applicant_sex_name&#x27;, &#x27;applicant_race_name_1&#x27;, &#x27;applicant_ethnicity_name&#x27;, &#x27;agency_name&#x27;, &#x27;region&#x27;]</pre></div></div></div><div class=\"sk-serial\"><div class=\"sk-item\"><div class=\"sk-estimator sk-toggleable\"><input class=\"sk-toggleable__control sk-hidden--visually\" id=\"sk-estimator-id-6\" type=\"checkbox\" ><label for=\"sk-estimator-id-6\" class=\"sk-toggleable__label sk-toggleable__label-arrow\">OneHotEncoder</label><div class=\"sk-toggleable__content\"><pre>OneHotEncoder()</pre></div></div></div></div></div></div><div class=\"sk-parallel-item\"><div class=\"sk-item\"><div class=\"sk-label-container\"><div class=\"sk-label sk-toggleable\"><input class=\"sk-toggleable__control sk-hidden--visually\" id=\"sk-estimator-id-7\" type=\"checkbox\" ><label for=\"sk-estimator-id-7\" class=\"sk-toggleable__label sk-toggleable__label-arrow\">remainder</label><div class=\"sk-toggleable__content\"><pre>[]</pre></div></div></div><div class=\"sk-serial\"><div class=\"sk-item\"><div class=\"sk-estimator sk-toggleable\"><input class=\"sk-toggleable__control sk-hidden--visually\" id=\"sk-estimator-id-8\" type=\"checkbox\" ><label for=\"sk-estimator-id-8\" class=\"sk-toggleable__label sk-toggleable__label-arrow\">passthrough</label><div class=\"sk-toggleable__content\"><pre>passthrough</pre></div></div></div></div></div></div></div></div></div></div>"
      ],
      "text/plain": [
       "ColumnTransformer(remainder='passthrough', sparse_threshold=0.1,\n",
       "                  transformers=[('pipeline',\n",
       "                                 Pipeline(steps=[('simpleimputer',\n",
       "                                                  SimpleImputer(strategy='median')),\n",
       "                                                 ('standardscaler',\n",
       "                                                  StandardScaler())]),\n",
       "                                 ['tract_to_msamd_income', 'population',\n",
       "                                  'minority_population',\n",
       "                                  'number_of_owner_occupied_units',\n",
       "                                  'number_of_1_to_4_family_units',\n",
       "                                  'loan_amount_000s',\n",
       "                                  'hud_median_...\n",
       "                                ('onehotencoder', OneHotEncoder(),\n",
       "                                 ['property_type_name', 'preapproval_name',\n",
       "                                  'owner_occupancy_name', 'loan_type_name',\n",
       "                                  'loan_purpose_name', 'lien_status_name',\n",
       "                                  'hoepa_status_name', 'co_applicant_sex_name',\n",
       "                                  'co_applicant_race_name_1',\n",
       "                                  'co_applicant_ethnicity_name',\n",
       "                                  'applicant_sex_name', 'applicant_race_name_1',\n",
       "                                  'applicant_ethnicity_name', 'agency_name',\n",
       "                                  'region'])])"
      ]
     },
     "execution_count": 5,
     "metadata": {},
     "output_type": "execute_result"
    }
   ],
   "source": [
    "preprocessor"
   ]
  },
  {
   "cell_type": "code",
   "execution_count": 6,
   "id": "a63b047d",
   "metadata": {},
   "outputs": [],
   "source": [
    "    import pickle\n",
    "    file = open(\"/home/adedapo/code/roski10/Project_Mortgages/preprocessor.pkl\", \"wb\")\n",
    "    pickle.dump(preprocessor, file)\n",
    "    file.close()"
   ]
  },
  {
   "cell_type": "code",
   "execution_count": 2,
   "id": "9af1d39c",
   "metadata": {},
   "outputs": [],
   "source": [
    "def main(file_path):\n",
    "    data_original = pd.read_csv(file_path, decimal=',')\n",
    "    data = clean_data(data_original)\n",
    "    X_train, X_test, y_train, y_test, preprocessor = preprocess_and_resample(data)\n",
    "    model, y_pred = train_and_evaluate_model(X_train, X_test, y_train, y_test)\n",
    "\n",
    "    return y_pred"
   ]
  },
  {
   "cell_type": "code",
   "execution_count": 3,
   "id": "bc891aae",
   "metadata": {},
   "outputs": [
    {
     "name": "stderr",
     "output_type": "stream",
     "text": [
      "/tmp/ipykernel_2861/3544204083.py:2: DtypeWarning: Columns (1,23,24,25,28,29,30,38,39,40) have mixed types. Specify dtype option on import or set low_memory=False.\n",
      "  data_original = pd.read_csv(file_path, decimal=',')\n"
     ]
    },
    {
     "name": "stdout",
     "output_type": "stream",
     "text": [
      "\n",
      "✅ data cleaned\n",
      "\n",
      "✅ X_train_sm, with shape (310608, 67)\n",
      "✅ X_test_processed, with shape (84968, 67)\n",
      "✅ y_train_sm, with shape (310608,)\n",
      "✅ y_test, with shape (84968,)\n",
      "\n",
      "✅ Model trained on 310608 rows of training data.\n",
      "\n",
      "✅ Accuracy score: 0.7886\n",
      "\n",
      "✅ Classification report:\n",
      "              precision    recall  f1-score   support\n",
      "\n",
      "           0       0.51      0.33      0.40     18279\n",
      "           1       0.83      0.91      0.87     66689\n",
      "\n",
      "    accuracy                           0.79     84968\n",
      "   macro avg       0.67      0.62      0.64     84968\n",
      "weighted avg       0.76      0.79      0.77     84968\n",
      "\n"
     ]
    }
   ],
   "source": [
    "if __name__ == '__main__':\n",
    "    data_dir = \"raw_data\"\n",
    "    file_name = \"Washington_State_HDMA-2016.csv\"\n",
    "    file_path = os.path.join(data_dir, file_name)\n",
    "    main(file_path)"
   ]
  },
  {
   "cell_type": "code",
   "execution_count": null,
   "id": "d8ac0746",
   "metadata": {},
   "outputs": [],
   "source": []
  }
 ],
 "metadata": {
  "kernelspec": {
   "display_name": "Python 3 (ipykernel)",
   "language": "python",
   "name": "python3"
  },
  "language_info": {
   "codemirror_mode": {
    "name": "ipython",
    "version": 3
   },
   "file_extension": ".py",
   "mimetype": "text/x-python",
   "name": "python",
   "nbconvert_exporter": "python",
   "pygments_lexer": "ipython3",
   "version": "3.10.6"
  },
  "toc": {
   "base_numbering": 1,
   "nav_menu": {},
   "number_sections": true,
   "sideBar": true,
   "skip_h1_title": false,
   "title_cell": "Table of Contents",
   "title_sidebar": "Contents",
   "toc_cell": false,
   "toc_position": {},
   "toc_section_display": true,
   "toc_window_display": false
  }
 },
 "nbformat": 4,
 "nbformat_minor": 5
}
