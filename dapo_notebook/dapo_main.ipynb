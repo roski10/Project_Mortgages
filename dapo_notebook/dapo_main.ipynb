{
 "cells": [
  {
   "cell_type": "code",
   "execution_count": 1,
   "id": "63ca3c49",
   "metadata": {},
   "outputs": [],
   "source": [
    "import sys\n",
    "sys.path.append('/home/adedapo/code/roski10/Project_Mortgages/ml_logic/')\n",
    "\n",
    "import os\n",
    "import pandas as pd\n",
    "from clean_data import clean_data\n",
    "from preprocessing import  preprocess_and_resample\n",
    "from model import train_and_evaluate_model"
   ]
  },
  {
   "cell_type": "code",
   "execution_count": 2,
   "id": "9af1d39c",
   "metadata": {},
   "outputs": [],
   "source": [
    "def main(file_path):\n",
    "    data_original = pd.read_csv(file_path, decimal=',')\n",
    "    data = clean_data(data_original)\n",
    "    X_train, X_test, y_train, y_test = preprocess_and_resample(data)\n",
    "    model, y_pred = train_and_evaluate_model(X_train, X_test, y_train, y_test)\n",
    "\n",
    "    return y_pred"
   ]
  },
  {
   "cell_type": "code",
   "execution_count": 3,
   "id": "bc891aae",
   "metadata": {},
   "outputs": [
    {
     "name": "stderr",
     "output_type": "stream",
     "text": [
      "/tmp/ipykernel_3743/3544204083.py:2: DtypeWarning: Columns (1,23,24,25,28,29,30,38,39,40) have mixed types. Specify dtype option on import or set low_memory=False.\n",
      "  data_original = pd.read_csv(file_path, decimal=',')\n"
     ]
    },
    {
     "name": "stdout",
     "output_type": "stream",
     "text": [
      "\n",
      "✅ data cleaned\n",
      "\n",
      "✅ X_train_sm, with shape (310556, 67)\n",
      "✅ X_test, with shape (84968, 67)\n",
      "✅ y_train_sm, with shape (310556,)\n",
      "✅ y_test, with shape (84968,)\n",
      "\n",
      "✅ Model trained on 310556 rows of training data.\n",
      "\n",
      "✅ Accuracy score: 0.7909\n",
      "\n",
      "✅ Classification report:\n",
      "              precision    recall  f1-score   support\n",
      "\n",
      "         0.0       0.52      0.33      0.40     18253\n",
      "         1.0       0.83      0.92      0.87     66715\n",
      "\n",
      "    accuracy                           0.79     84968\n",
      "   macro avg       0.68      0.62      0.64     84968\n",
      "weighted avg       0.77      0.79      0.77     84968\n",
      "\n"
     ]
    }
   ],
   "source": [
    "if __name__ == '__main__':\n",
    "    data_dir = \"raw_data\"\n",
    "    file_name = \"Washington_State_HDMA-2016.csv\"\n",
    "    file_path = os.path.join(data_dir, file_name)\n",
    "    main(file_path)"
   ]
  }
 ],
 "metadata": {
  "kernelspec": {
   "display_name": "Python 3 (ipykernel)",
   "language": "python",
   "name": "python3"
  },
  "language_info": {
   "codemirror_mode": {
    "name": "ipython",
    "version": 3
   },
   "file_extension": ".py",
   "mimetype": "text/x-python",
   "name": "python",
   "nbconvert_exporter": "python",
   "pygments_lexer": "ipython3",
   "version": "3.10.6"
  },
  "toc": {
   "base_numbering": 1,
   "nav_menu": {},
   "number_sections": true,
   "sideBar": true,
   "skip_h1_title": false,
   "title_cell": "Table of Contents",
   "title_sidebar": "Contents",
   "toc_cell": false,
   "toc_position": {},
   "toc_section_display": true,
   "toc_window_display": false
  }
 },
 "nbformat": 4,
 "nbformat_minor": 5
}
