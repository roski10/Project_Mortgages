{
 "cells": [
  {
   "cell_type": "code",
   "execution_count": 1,
   "id": "63ca3c49",
   "metadata": {},
   "outputs": [],
   "source": [
    "import sys\n",
    "sys.path.append('/home/adedapo/code/roski10/Project_Mortgages/ml_logic/')\n",
    "\n",
    "import os\n",
    "import pandas as pd\n",
    "from clean_data import clean_data\n",
    "from preprocessing import  preprocess_and_resample\n",
    "from model import train_and_evaluate_model"
   ]
  },
  {
   "cell_type": "code",
   "execution_count": 2,
   "id": "cb8330df",
   "metadata": {},
   "outputs": [],
   "source": [
    "# file = \"raw_data/Washington_State_HDMA-2016.csv\"\n",
    "# data_original = pd.read_csv(file, decimal=',')\n",
    "# data = clean_data(data_original)"
   ]
  },
  {
   "cell_type": "code",
   "execution_count": 3,
   "id": "9e1efce1",
   "metadata": {},
   "outputs": [],
   "source": [
    "# X_train, X_test, y_train, y_test, preprocessor = preprocess_and_resample(data)"
   ]
  },
  {
   "cell_type": "code",
   "execution_count": 4,
   "id": "83abe6b7",
   "metadata": {},
   "outputs": [],
   "source": [
    "# import pickle\n",
    "# file = open(\"/home/adedapo/code/roski10/Project_Mortgages/preprocessor.pkl\", \"wb\")\n",
    "# pickle.dump(preprocessor, file)\n",
    "# file.close()"
   ]
  },
  {
   "cell_type": "code",
   "execution_count": 5,
   "id": "9af1d39c",
   "metadata": {},
   "outputs": [],
   "source": [
    "def main(file_path):\n",
    "    data_original = pd.read_csv(file_path, decimal=',')\n",
    "    data = clean_data(data_original)\n",
    "    X_train, X_test, y_train, y_test, preprocessor = preprocess_and_resample(data)\n",
    "    model, y_pred = train_and_evaluate_model(X_train, X_test, y_train, y_test)\n",
    "\n",
    "    return y_pred"
   ]
  },
  {
   "cell_type": "code",
   "execution_count": 6,
   "id": "bc891aae",
   "metadata": {},
   "outputs": [
    {
     "name": "stderr",
     "output_type": "stream",
     "text": [
      "/tmp/ipykernel_6496/4220059130.py:2: DtypeWarning: Columns (1,23,24,25,28,29,30,38,39,40) have mixed types. Specify dtype option on import or set low_memory=False.\n",
      "  data_original = pd.read_csv(file_path, decimal=',')\n"
     ]
    },
    {
     "name": "stdout",
     "output_type": "stream",
     "text": [
      "\n",
      "✅ data cleaned\n",
      "\n",
      "✅ X_train_sm, with shape (310758, 67)\n",
      "✅ X_test_processed, with shape (84968, 67)\n",
      "✅ y_train_sm, with shape (310758,)\n",
      "✅ y_test, with shape (84968,)\n"
     ]
    },
    {
     "ename": "ValueError",
     "evalue": "not enough values to unpack (expected 5, got 4)",
     "output_type": "error",
     "traceback": [
      "\u001b[0;31m---------------------------------------------------------------------------\u001b[0m",
      "\u001b[0;31mValueError\u001b[0m                                Traceback (most recent call last)",
      "Cell \u001b[0;32mIn [6], line 5\u001b[0m\n\u001b[1;32m      3\u001b[0m file_name \u001b[38;5;241m=\u001b[39m \u001b[38;5;124m\"\u001b[39m\u001b[38;5;124mWashington_State_HDMA-2016.csv\u001b[39m\u001b[38;5;124m\"\u001b[39m\n\u001b[1;32m      4\u001b[0m file_path \u001b[38;5;241m=\u001b[39m os\u001b[38;5;241m.\u001b[39mpath\u001b[38;5;241m.\u001b[39mjoin(data_dir, file_name)\n\u001b[0;32m----> 5\u001b[0m main(file_path)\n",
      "Cell \u001b[0;32mIn [5], line 4\u001b[0m, in \u001b[0;36mmain\u001b[0;34m(file_path)\u001b[0m\n\u001b[1;32m      2\u001b[0m data_original \u001b[38;5;241m=\u001b[39m pd\u001b[38;5;241m.\u001b[39mread_csv(file_path, decimal\u001b[38;5;241m=\u001b[39m\u001b[38;5;124m'\u001b[39m\u001b[38;5;124m,\u001b[39m\u001b[38;5;124m'\u001b[39m)\n\u001b[1;32m      3\u001b[0m data \u001b[38;5;241m=\u001b[39m clean_data(data_original)\n\u001b[0;32m----> 4\u001b[0m X_train, X_test, y_train, y_test, preprocessor \u001b[38;5;241m=\u001b[39m preprocess_and_resample(data)\n\u001b[1;32m      5\u001b[0m model, y_pred \u001b[38;5;241m=\u001b[39m train_and_evaluate_model(X_train, X_test, y_train, y_test)\n\u001b[1;32m      7\u001b[0m \u001b[38;5;28;01mreturn\u001b[39;00m y_pred\n",
      "\u001b[0;31mValueError\u001b[0m: not enough values to unpack (expected 5, got 4)"
     ]
    }
   ],
   "source": [
    "if __name__ == '__main__':\n",
    "    data_dir = \"raw_data\"\n",
    "    file_name = \"Washington_State_HDMA-2016.csv\"\n",
    "    file_path = os.path.join(data_dir, file_name)\n",
    "    main(file_path)"
   ]
  },
  {
   "cell_type": "code",
   "execution_count": null,
   "id": "95fe5dd2",
   "metadata": {},
   "outputs": [],
   "source": []
  }
 ],
 "metadata": {
  "kernelspec": {
   "display_name": "Python 3 (ipykernel)",
   "language": "python",
   "name": "python3"
  },
  "language_info": {
   "codemirror_mode": {
    "name": "ipython",
    "version": 3
   },
   "file_extension": ".py",
   "mimetype": "text/x-python",
   "name": "python",
   "nbconvert_exporter": "python",
   "pygments_lexer": "ipython3",
   "version": "3.10.6"
  },
  "toc": {
   "base_numbering": 1,
   "nav_menu": {},
   "number_sections": true,
   "sideBar": true,
   "skip_h1_title": false,
   "title_cell": "Table of Contents",
   "title_sidebar": "Contents",
   "toc_cell": false,
   "toc_position": {},
   "toc_section_display": true,
   "toc_window_display": false
  }
 },
 "nbformat": 4,
 "nbformat_minor": 5
}
