{
 "cells": [
  {
   "cell_type": "code",
   "execution_count": 1,
   "id": "a782178a",
   "metadata": {},
   "outputs": [],
   "source": [
    "# --- Data manipulation ---\n",
    "import numpy as np\n",
    "import pandas as pd\n",
    "from scipy.stats.mstats import winsorize\n",
    "\n",
    "import warnings\n",
    "warnings.filterwarnings('ignore')\n",
    "\n",
    "# --- Defined Functions ---\n",
    "import sys\n",
    "sys.path.append('/home/adedapo/code/roski10/Project_Mortgages/')\n",
    "from dapo_clean_data import clean_data\n",
    "from dapo_preprocessing import preprocess_and_resample\n",
    "\n",
    "from sklearn import set_config\n",
    "\n",
    "# --- Data Modeling ---\n",
    "from sklearn.model_selection import train_test_split\n",
    "from sklearn.linear_model import LogisticRegression\n",
    "from sklearn.model_selection import cross_validate, GridSearchCV\n",
    "from sklearn.metrics import accuracy_score\n",
    "from xgboost import XGBClassifier\n",
    "from sklearn.ensemble import RandomForestClassifier\n",
    "from sklearn.neighbors import KNeighborsClassifier\n",
    "from sklearn.feature_selection import RFECV"
   ]
  },
  {
   "cell_type": "markdown",
   "id": "9b3a65c9",
   "metadata": {},
   "source": [
    "# Clean Data"
   ]
  },
  {
   "cell_type": "code",
   "execution_count": 2,
   "id": "28604438",
   "metadata": {},
   "outputs": [],
   "source": [
    "file = \"data/Washington_State_HDMA-2016.csv\"\n",
    "data_original = pd.read_csv(file, decimal=',')"
   ]
  },
  {
   "cell_type": "code",
   "execution_count": 3,
   "id": "1f2d084f",
   "metadata": {},
   "outputs": [],
   "source": [
    "data = clean_data(data_original)"
   ]
  },
  {
   "cell_type": "markdown",
   "id": "211464c4",
   "metadata": {},
   "source": [
    "# Preprocessing"
   ]
  },
  {
   "cell_type": "code",
   "execution_count": 4,
   "id": "c2d300e2",
   "metadata": {},
   "outputs": [],
   "source": [
    "X_train, X_test, y_train, y_test = preprocess_and_resample(data)"
   ]
  },
  {
   "cell_type": "code",
   "execution_count": 5,
   "id": "ff6dde9e",
   "metadata": {},
   "outputs": [
    {
     "data": {
      "text/plain": [
       "(310870, 67)"
      ]
     },
     "execution_count": 5,
     "metadata": {},
     "output_type": "execute_result"
    }
   ],
   "source": [
    "X_train.shape"
   ]
  },
  {
   "cell_type": "code",
   "execution_count": 6,
   "id": "af83e838",
   "metadata": {},
   "outputs": [
    {
     "data": {
      "text/plain": [
       "(84968, 67)"
      ]
     },
     "execution_count": 6,
     "metadata": {},
     "output_type": "execute_result"
    }
   ],
   "source": [
    "X_test.shape"
   ]
  },
  {
   "cell_type": "code",
   "execution_count": 7,
   "id": "a095aa43",
   "metadata": {},
   "outputs": [
    {
     "data": {
      "text/plain": [
       "1.0    155435\n",
       "0.0    155435\n",
       "Name: ordinalencoder__loan_status, dtype: int64"
      ]
     },
     "execution_count": 7,
     "metadata": {},
     "output_type": "execute_result"
    }
   ],
   "source": [
    "y_train.value_counts()"
   ]
  },
  {
   "cell_type": "code",
   "execution_count": 8,
   "id": "9908dc00",
   "metadata": {},
   "outputs": [
    {
     "data": {
      "text/html": [
       "<div>\n",
       "<style scoped>\n",
       "    .dataframe tbody tr th:only-of-type {\n",
       "        vertical-align: middle;\n",
       "    }\n",
       "\n",
       "    .dataframe tbody tr th {\n",
       "        vertical-align: top;\n",
       "    }\n",
       "\n",
       "    .dataframe thead th {\n",
       "        text-align: right;\n",
       "    }\n",
       "</style>\n",
       "<table border=\"1\" class=\"dataframe\">\n",
       "  <thead>\n",
       "    <tr style=\"text-align: right;\">\n",
       "      <th></th>\n",
       "      <th>pipeline__tract_to_msamd_income</th>\n",
       "      <th>pipeline__population</th>\n",
       "      <th>pipeline__minority_population</th>\n",
       "      <th>pipeline__number_of_owner_occupied_units</th>\n",
       "      <th>pipeline__number_of_1_to_4_family_units</th>\n",
       "      <th>pipeline__loan_amount_000s</th>\n",
       "      <th>pipeline__hud_median_family_income</th>\n",
       "      <th>pipeline__applicant_income_000s</th>\n",
       "      <th>onehotencoder__property_type_name_Manufactured housing</th>\n",
       "      <th>onehotencoder__property_type_name_Multifamily dwelling</th>\n",
       "      <th>...</th>\n",
       "      <th>onehotencoder__agency_name_Department of Housing and Urban Development</th>\n",
       "      <th>onehotencoder__agency_name_Federal Deposit Insurance Corporation</th>\n",
       "      <th>onehotencoder__agency_name_Federal Reserve System</th>\n",
       "      <th>onehotencoder__agency_name_National Credit Union Administration</th>\n",
       "      <th>onehotencoder__agency_name_Office of the Comptroller of the Currency</th>\n",
       "      <th>onehotencoder__region_Eastern Washington</th>\n",
       "      <th>onehotencoder__region_Northern Cascades</th>\n",
       "      <th>onehotencoder__region_Olympic Peninsula</th>\n",
       "      <th>onehotencoder__region_Southwest Washington</th>\n",
       "      <th>onehotencoder__region_Western Region</th>\n",
       "    </tr>\n",
       "  </thead>\n",
       "  <tbody>\n",
       "    <tr>\n",
       "      <th>0</th>\n",
       "      <td>-1.446076</td>\n",
       "      <td>0.181832</td>\n",
       "      <td>1.003900</td>\n",
       "      <td>-0.246196</td>\n",
       "      <td>-0.480725</td>\n",
       "      <td>-0.030033</td>\n",
       "      <td>1.049424</td>\n",
       "      <td>-0.257218</td>\n",
       "      <td>0.0</td>\n",
       "      <td>0.0</td>\n",
       "      <td>...</td>\n",
       "      <td>0.0</td>\n",
       "      <td>0.0</td>\n",
       "      <td>0.0</td>\n",
       "      <td>0.0</td>\n",
       "      <td>0.0</td>\n",
       "      <td>0.0</td>\n",
       "      <td>1.0</td>\n",
       "      <td>0.0</td>\n",
       "      <td>0.0</td>\n",
       "      <td>0.0</td>\n",
       "    </tr>\n",
       "    <tr>\n",
       "      <th>1</th>\n",
       "      <td>-0.814960</td>\n",
       "      <td>-0.872252</td>\n",
       "      <td>-0.888183</td>\n",
       "      <td>-1.073426</td>\n",
       "      <td>-1.039653</td>\n",
       "      <td>-0.075359</td>\n",
       "      <td>-0.258590</td>\n",
       "      <td>-0.081002</td>\n",
       "      <td>0.0</td>\n",
       "      <td>0.0</td>\n",
       "      <td>...</td>\n",
       "      <td>0.0</td>\n",
       "      <td>0.0</td>\n",
       "      <td>0.0</td>\n",
       "      <td>0.0</td>\n",
       "      <td>0.0</td>\n",
       "      <td>0.0</td>\n",
       "      <td>0.0</td>\n",
       "      <td>0.0</td>\n",
       "      <td>1.0</td>\n",
       "      <td>0.0</td>\n",
       "    </tr>\n",
       "  </tbody>\n",
       "</table>\n",
       "<p>2 rows × 67 columns</p>\n",
       "</div>"
      ],
      "text/plain": [
       "   pipeline__tract_to_msamd_income  pipeline__population  \\\n",
       "0                        -1.446076              0.181832   \n",
       "1                        -0.814960             -0.872252   \n",
       "\n",
       "   pipeline__minority_population  pipeline__number_of_owner_occupied_units  \\\n",
       "0                       1.003900                                 -0.246196   \n",
       "1                      -0.888183                                 -1.073426   \n",
       "\n",
       "   pipeline__number_of_1_to_4_family_units  pipeline__loan_amount_000s  \\\n",
       "0                                -0.480725                   -0.030033   \n",
       "1                                -1.039653                   -0.075359   \n",
       "\n",
       "   pipeline__hud_median_family_income  pipeline__applicant_income_000s  \\\n",
       "0                            1.049424                        -0.257218   \n",
       "1                           -0.258590                        -0.081002   \n",
       "\n",
       "   onehotencoder__property_type_name_Manufactured housing  \\\n",
       "0                                                0.0        \n",
       "1                                                0.0        \n",
       "\n",
       "   onehotencoder__property_type_name_Multifamily dwelling  ...  \\\n",
       "0                                                0.0       ...   \n",
       "1                                                0.0       ...   \n",
       "\n",
       "   onehotencoder__agency_name_Department of Housing and Urban Development  \\\n",
       "0                                                0.0                        \n",
       "1                                                0.0                        \n",
       "\n",
       "   onehotencoder__agency_name_Federal Deposit Insurance Corporation  \\\n",
       "0                                                0.0                  \n",
       "1                                                0.0                  \n",
       "\n",
       "   onehotencoder__agency_name_Federal Reserve System  \\\n",
       "0                                                0.0   \n",
       "1                                                0.0   \n",
       "\n",
       "   onehotencoder__agency_name_National Credit Union Administration  \\\n",
       "0                                                0.0                 \n",
       "1                                                0.0                 \n",
       "\n",
       "   onehotencoder__agency_name_Office of the Comptroller of the Currency  \\\n",
       "0                                                0.0                      \n",
       "1                                                0.0                      \n",
       "\n",
       "   onehotencoder__region_Eastern Washington  \\\n",
       "0                                       0.0   \n",
       "1                                       0.0   \n",
       "\n",
       "   onehotencoder__region_Northern Cascades  \\\n",
       "0                                      1.0   \n",
       "1                                      0.0   \n",
       "\n",
       "   onehotencoder__region_Olympic Peninsula  \\\n",
       "0                                      0.0   \n",
       "1                                      0.0   \n",
       "\n",
       "   onehotencoder__region_Southwest Washington  \\\n",
       "0                                         0.0   \n",
       "1                                         1.0   \n",
       "\n",
       "   onehotencoder__region_Western Region  \n",
       "0                                   0.0  \n",
       "1                                   0.0  \n",
       "\n",
       "[2 rows x 67 columns]"
      ]
     },
     "execution_count": 8,
     "metadata": {},
     "output_type": "execute_result"
    }
   ],
   "source": [
    "X_train.head(2)"
   ]
  },
  {
   "cell_type": "markdown",
   "id": "1ad293ff",
   "metadata": {},
   "source": [
    "# Creating a Model"
   ]
  },
  {
   "cell_type": "code",
   "execution_count": 9,
   "id": "40070ad3",
   "metadata": {},
   "outputs": [
    {
     "name": "stdout",
     "output_type": "stream",
     "text": [
      "Accuracy: 0.6129719423783071\n"
     ]
    }
   ],
   "source": [
    "# model = LogisticRegression()\n",
    "\n",
    "# # Train model on training set\n",
    "# model.fit(X_train, y_train)\n",
    "\n",
    "# # Make predictions on test set\n",
    "# y_pred = model.predict(X_test)\n",
    "\n",
    "# # Evaluate model performance\n",
    "# accuracy = accuracy_score(y_test, y_pred)\n",
    "# print(f\"Accuracy: {accuracy}\")\n",
    "\n",
    "# # Accuracy: 0.6159730722154223"
   ]
  },
  {
   "cell_type": "markdown",
   "id": "0976336c",
   "metadata": {},
   "source": [
    "## Simple Logistic Regression"
   ]
  },
  {
   "cell_type": "code",
   "execution_count": 10,
   "id": "c18def82",
   "metadata": {},
   "outputs": [
    {
     "name": "stdout",
     "output_type": "stream",
     "text": [
      "Best hyperparameter value:  {'C': 0.01, 'penalty': 'l2', 'solver': 'liblinear'}\n",
      "Mean cross-validation score:  0.6414771447872101\n",
      "Best estimator value:  LogisticRegression(C=0.01, solver='liblinear')\n"
     ]
    }
   ],
   "source": [
    "model = LogisticRegression()\n",
    "\n",
    "param_grid = {\n",
    "    'C': [0.01, 0.1, 1],\n",
    "    'penalty': ['l1', 'l2'],\n",
    "    'solver': ['liblinear', 'saga', 'lbfgs']\n",
    "}\n",
    "\n",
    "# Instantiate Grid Search\n",
    "grid = GridSearchCV(model, param_grid, cv=2)\n",
    "\n",
    "# Fit data to Grid Search\n",
    "grid.fit(X_train, y_train)\n",
    "\n",
    "# Print the best hyperparameter value\n",
    "print('Best hyperparameter value: ', grid.best_params_)\n",
    "\n",
    "# Print the mean cross-validation score for the best hyperparameter value\n",
    "print('Mean cross-validation score: ', grid.best_score_)\n",
    "\n",
    "print('Best estimator value: ', grid.best_estimator_)\n",
    "\n",
    "# Best hyperparameter value:  {'C': 0.01, 'penalty': 'l2', 'solver': 'liblinear'}\n",
    "# Mean cross-validation score:  0.6414771447872101\n",
    "# Best estimator value:  LogisticRegression(C=0.01, solver='liblinear')"
   ]
  },
  {
   "cell_type": "markdown",
   "id": "f76b1bfc",
   "metadata": {},
   "source": [
    "## RandomForestClassifier"
   ]
  },
  {
   "cell_type": "code",
   "execution_count": 11,
   "id": "fcf0cd33",
   "metadata": {},
   "outputs": [
    {
     "name": "stdout",
     "output_type": "stream",
     "text": [
      "Accuracy: 0.7502706901421712\n"
     ]
    }
   ],
   "source": [
    "# Define the RandomForest classifier\n",
    "rfc = RandomForestClassifier(max_depth=30,\n",
    "                             max_features='sqrt',\n",
    "                             n_estimators=200)\n",
    "\n",
    "# Train the classifier\n",
    "rfc.fit(X_train, y_train)\n",
    "\n",
    "# Predict the test data\n",
    "y_pred = rfc.predict(X_test)\n",
    "\n",
    "# Calculate the accuracy score\n",
    "accuracy = accuracy_score(y_test, y_pred)\n",
    "print('Accuracy:', accuracy)\n",
    "\n",
    "# Accuracy: 0.7526833631484794"
   ]
  },
  {
   "cell_type": "code",
   "execution_count": 11,
   "id": "be785541",
   "metadata": {},
   "outputs": [
    {
     "name": "stdout",
     "output_type": "stream",
     "text": [
      "Best hyperparameter value:  {'max_depth': 30, 'max_features': 'sqrt', 'n_estimators': 200}\n",
      "Mean cross-validation score:  0.8069353749155596\n"
     ]
    }
   ],
   "source": [
    "rfc = RandomForestClassifier()\n",
    "\n",
    "# Define the parameter grid\n",
    "param_grid2 = {\n",
    "    'n_estimators': [50, 100, 200],\n",
    "    'max_depth': [10, 20, 30],\n",
    "    'max_features': ['sqrt', 'log2']\n",
    "}\n",
    "\n",
    "# Create a grid search object\n",
    "grid_search = GridSearchCV(rfc, param_grid2, cv=2)\n",
    "\n",
    "# Fit the grid search object to the training data\n",
    "grid_search.fit(X_train, y_train)\n",
    "\n",
    "# Print the best hyperparameter value\n",
    "print('Best hyperparameter value: ', grid_search.best_params_)\n",
    "\n",
    "# Print the mean cross-validation score for the best hyperparameter value\n",
    "print('Mean cross-validation score: ', grid_search.best_score_)\n",
    "\n",
    "# Best hyperparameter value:  {'max_depth': 30, 'max_features': 'sqrt', 'n_estimators': 200}\n",
    "# Mean cross-validation score:  0.8069353749155596"
   ]
  },
  {
   "cell_type": "markdown",
   "id": "0451dda5",
   "metadata": {},
   "source": [
    "## XGBoost"
   ]
  },
  {
   "cell_type": "code",
   "execution_count": 7,
   "id": "11b28a6a",
   "metadata": {
    "scrolled": true
   },
   "outputs": [
    {
     "name": "stdout",
     "output_type": "stream",
     "text": [
      "Accuracy: 0.7250023538273233\n"
     ]
    }
   ],
   "source": [
    "# Define the XGBoost classifier\n",
    "xgb_clf = XGBClassifier(objective='binary:logistic')\n",
    "\n",
    "# Train the classifier\n",
    "xgb_clf.fit(X_train, y_train)\n",
    "\n",
    "# Predict the test data\n",
    "y_pred = xgb_clf.predict(X_test)\n",
    "\n",
    "# Calculate the accuracy score\n",
    "accuracy = accuracy_score(y_test, y_pred)\n",
    "print('Accuracy:', accuracy)\n",
    "\n",
    "# Accuracy: 0.7641818096224461"
   ]
  },
  {
   "cell_type": "code",
   "execution_count": 13,
   "id": "0761e6b9",
   "metadata": {},
   "outputs": [
    {
     "name": "stdout",
     "output_type": "stream",
     "text": [
      "Best hyperparameter value:  {'learning_rate': 0.3, 'n_estimators': 200, 'reg_alpha': 0.1, 'reg_lambda': 0.5}\n",
      "Mean cross-validation score:  0.80176279473735\n"
     ]
    }
   ],
   "source": [
    "xgb_clf = XGBClassifier(objective='binary:logistic')\n",
    "\n",
    "# Define the parameter grid\n",
    "parameters = {\n",
    "    'learning_rate': [0.1, 0.3],\n",
    "    'n_estimators': [50, 100, 200],\n",
    "    'reg_alpha': [0.0, 0.1, 0.5],\n",
    "    'reg_lambda': [0.0, 0.1, 0.5]\n",
    "}\n",
    "\n",
    "# Create a grid search object\n",
    "grid_s = GridSearchCV(xgb_clf, parameters, cv=2)\n",
    "\n",
    "# Fit the grid search object to the training data\n",
    "grid_s.fit(X_train, y_train)\n",
    "\n",
    "# Print the best hyperparameter value\n",
    "print('Best hyperparameter value: ', grid_s.best_params_)\n",
    "\n",
    "# Print the mean cross-validation score for the best hyperparameter value\n",
    "print('Mean cross-validation score: ', grid_s.best_score_)\n",
    "\n",
    "# Best hyperparameter value:  {'learning_rate': 0.3, 'n_estimators': 200, 'reg_alpha': 0.1, 'reg_lambda': 0.5}\n",
    "# Mean cross-validation score:  0.80176279473735"
   ]
  },
  {
   "cell_type": "markdown",
   "id": "5496e6bc",
   "metadata": {},
   "source": [
    "## K-Nearest Neighbors (KNN)"
   ]
  },
  {
   "cell_type": "code",
   "execution_count": 9,
   "id": "a8c95914",
   "metadata": {},
   "outputs": [
    {
     "name": "stdout",
     "output_type": "stream",
     "text": [
      "Accuracy: 0.6310022596742303\n"
     ]
    }
   ],
   "source": [
    "# Create KNN model\n",
    "knn = KNeighborsClassifier()\n",
    "\n",
    "# Fit model to training data\n",
    "knn.fit(X_train, y_train)\n",
    "\n",
    "# Make predictions on test data\n",
    "y_pred = knn.predict(X_test)\n",
    "\n",
    "# Evaluate model performance\n",
    "accuracy = accuracy_score(y_test, y_pred)\n",
    "print('Accuracy:', accuracy)\n",
    "\n",
    "# Accuracy: 0.6301313435646361"
   ]
  },
  {
   "cell_type": "code",
   "execution_count": null,
   "id": "c3613149",
   "metadata": {},
   "outputs": [],
   "source": [
    "# Create KNN model\n",
    "knn = KNeighborsClassifier(n_neighbors=5)\n",
    "\n",
    "# Define the parameter grid\n",
    "params = {\n",
    "    'n_neighbors': [3, 5, 7, 9],\n",
    "    'weights': ['uniform', 'distance'],\n",
    "    'algorithm': ['auto', 'ball_tree', 'kd_tree', 'brute'],\n",
    "    'leaf_size': [20, 30, 40],\n",
    "    'p': [1, 2, 3]\n",
    "}\n",
    "\n",
    "# Create a grid search object\n",
    "grid_se = GridSearchCV(knn, params, cv=2)\n",
    "\n",
    "# Fit the grid search object to the training data\n",
    "grid_se.fit(X_train, y_train)\n",
    "\n",
    "# Print the best hyperparameter value\n",
    "print('Best hyperparameter value: ', grid_se.best_params_)\n",
    "\n",
    "# Print the mean cross-validation score for the best hyperparameter value\n",
    "print('Mean cross-validation score: ', grid_se.best_score_)"
   ]
  },
  {
   "cell_type": "code",
   "execution_count": null,
   "id": "90df95ae",
   "metadata": {},
   "outputs": [],
   "source": []
  }
 ],
 "metadata": {
  "kernelspec": {
   "display_name": "Python 3 (ipykernel)",
   "language": "python",
   "name": "python3"
  },
  "language_info": {
   "codemirror_mode": {
    "name": "ipython",
    "version": 3
   },
   "file_extension": ".py",
   "mimetype": "text/x-python",
   "name": "python",
   "nbconvert_exporter": "python",
   "pygments_lexer": "ipython3",
   "version": "3.10.6"
  },
  "toc": {
   "base_numbering": 1,
   "nav_menu": {},
   "number_sections": true,
   "sideBar": true,
   "skip_h1_title": false,
   "title_cell": "Table of Contents",
   "title_sidebar": "Contents",
   "toc_cell": false,
   "toc_position": {},
   "toc_section_display": true,
   "toc_window_display": false
  }
 },
 "nbformat": 4,
 "nbformat_minor": 5
}
