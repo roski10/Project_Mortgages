{
 "cells": [
  {
   "cell_type": "code",
   "execution_count": 1,
   "id": "a0b5ec8b",
   "metadata": {},
   "outputs": [],
   "source": [
    "# --- Data Manipulation ---\n",
    "import pandas as pd\n",
    "\n",
    "# --- Defined Functions ---\n",
    "import sys\n",
    "sys.path.append('/home/adedapo/code/roski10/Project_Mortgages/')\n",
    "\n",
    "from dapo_clean_data import clean_data\n",
    "from dapo_preprocessing import preprocess_and_resample\n",
    "\n",
    "import warnings\n",
    "warnings.filterwarnings('ignore')\n",
    "\n",
    "from sklearn.linear_model import LogisticRegression\n",
    "from sklearn.feature_selection import RFECV"
   ]
  },
  {
   "cell_type": "code",
   "execution_count": 2,
   "id": "7001623b",
   "metadata": {},
   "outputs": [],
   "source": [
    "import pandas as pd\n",
    "from sklearn.pipeline import make_pipeline\n",
    "from sklearn.compose import make_column_transformer\n",
    "from sklearn.preprocessing import OneHotEncoder, StandardScaler, OrdinalEncoder\n",
    "from sklearn.impute import SimpleImputer\n",
    "from imblearn.over_sampling import SMOTE\n",
    "from sklearn.model_selection import train_test_split"
   ]
  },
  {
   "cell_type": "code",
   "execution_count": 3,
   "id": "5f09c466",
   "metadata": {},
   "outputs": [],
   "source": [
    "file = \"data/Washington_State_HDMA-2016.csv\"\n",
    "data_original = pd.read_csv(file, decimal=',')"
   ]
  },
  {
   "cell_type": "code",
   "execution_count": 4,
   "id": "1ad61a46",
   "metadata": {},
   "outputs": [],
   "source": [
    "data = clean_data(data_original)"
   ]
  },
  {
   "cell_type": "code",
   "execution_count": 5,
   "id": "b84cc0fb",
   "metadata": {},
   "outputs": [],
   "source": [
    "X_train, X_test, y_train, y_test = preprocess_and_resample(data)"
   ]
  },
  {
   "cell_type": "code",
   "execution_count": 6,
   "id": "4a59552c",
   "metadata": {},
   "outputs": [
    {
     "data": {
      "text/plain": [
       "(310588, 67)"
      ]
     },
     "execution_count": 6,
     "metadata": {},
     "output_type": "execute_result"
    }
   ],
   "source": [
    "X_train.shape"
   ]
  },
  {
   "cell_type": "code",
   "execution_count": 7,
   "id": "59fcd3cf",
   "metadata": {},
   "outputs": [
    {
     "data": {
      "text/plain": [
       "0.0    155294\n",
       "1.0    155294\n",
       "Name: ordinalencoder__loan_status, dtype: int64"
      ]
     },
     "execution_count": 7,
     "metadata": {},
     "output_type": "execute_result"
    }
   ],
   "source": [
    "y_train.value_counts()"
   ]
  },
  {
   "cell_type": "code",
   "execution_count": 8,
   "id": "be3a4540",
   "metadata": {},
   "outputs": [],
   "source": [
    "# # Train a logistic regression model\n",
    "# clf = LogisticRegression(random_state=0).fit(X_train, y_train)\n",
    "\n",
    "# # Get the coefficients and feature names\n",
    "# coef = clf.coef_[0]\n",
    "# feature_names = X_train.columns.tolist()\n",
    "\n",
    "# # Create a list of tuples containing the feature name and coefficient\n",
    "# coef_tuples = list(zip(feature_names, coef))\n",
    "\n",
    "# # Sort the tuples by coefficient in descending order\n",
    "# sorted_coef = sorted(coef_tuples, key=lambda x: abs(x[1]), reverse=True)\n",
    "\n",
    "# # Print out the sorted list of feature names and coefficients\n",
    "# for feature, coef in sorted_coef:\n",
    "#     print(feature, ':', coef)"
   ]
  },
  {
   "cell_type": "code",
   "execution_count": 9,
   "id": "ea1112c1",
   "metadata": {},
   "outputs": [
    {
     "data": {
      "text/html": [
       "<style>#sk-container-id-1 {color: black;background-color: white;}#sk-container-id-1 pre{padding: 0;}#sk-container-id-1 div.sk-toggleable {background-color: white;}#sk-container-id-1 label.sk-toggleable__label {cursor: pointer;display: block;width: 100%;margin-bottom: 0;padding: 0.3em;box-sizing: border-box;text-align: center;}#sk-container-id-1 label.sk-toggleable__label-arrow:before {content: \"▸\";float: left;margin-right: 0.25em;color: #696969;}#sk-container-id-1 label.sk-toggleable__label-arrow:hover:before {color: black;}#sk-container-id-1 div.sk-estimator:hover label.sk-toggleable__label-arrow:before {color: black;}#sk-container-id-1 div.sk-toggleable__content {max-height: 0;max-width: 0;overflow: hidden;text-align: left;background-color: #f0f8ff;}#sk-container-id-1 div.sk-toggleable__content pre {margin: 0.2em;color: black;border-radius: 0.25em;background-color: #f0f8ff;}#sk-container-id-1 input.sk-toggleable__control:checked~div.sk-toggleable__content {max-height: 200px;max-width: 100%;overflow: auto;}#sk-container-id-1 input.sk-toggleable__control:checked~label.sk-toggleable__label-arrow:before {content: \"▾\";}#sk-container-id-1 div.sk-estimator input.sk-toggleable__control:checked~label.sk-toggleable__label {background-color: #d4ebff;}#sk-container-id-1 div.sk-label input.sk-toggleable__control:checked~label.sk-toggleable__label {background-color: #d4ebff;}#sk-container-id-1 input.sk-hidden--visually {border: 0;clip: rect(1px 1px 1px 1px);clip: rect(1px, 1px, 1px, 1px);height: 1px;margin: -1px;overflow: hidden;padding: 0;position: absolute;width: 1px;}#sk-container-id-1 div.sk-estimator {font-family: monospace;background-color: #f0f8ff;border: 1px dotted black;border-radius: 0.25em;box-sizing: border-box;margin-bottom: 0.5em;}#sk-container-id-1 div.sk-estimator:hover {background-color: #d4ebff;}#sk-container-id-1 div.sk-parallel-item::after {content: \"\";width: 100%;border-bottom: 1px solid gray;flex-grow: 1;}#sk-container-id-1 div.sk-label:hover label.sk-toggleable__label {background-color: #d4ebff;}#sk-container-id-1 div.sk-serial::before {content: \"\";position: absolute;border-left: 1px solid gray;box-sizing: border-box;top: 0;bottom: 0;left: 50%;z-index: 0;}#sk-container-id-1 div.sk-serial {display: flex;flex-direction: column;align-items: center;background-color: white;padding-right: 0.2em;padding-left: 0.2em;position: relative;}#sk-container-id-1 div.sk-item {position: relative;z-index: 1;}#sk-container-id-1 div.sk-parallel {display: flex;align-items: stretch;justify-content: center;background-color: white;position: relative;}#sk-container-id-1 div.sk-item::before, #sk-container-id-1 div.sk-parallel-item::before {content: \"\";position: absolute;border-left: 1px solid gray;box-sizing: border-box;top: 0;bottom: 0;left: 50%;z-index: -1;}#sk-container-id-1 div.sk-parallel-item {display: flex;flex-direction: column;z-index: 1;position: relative;background-color: white;}#sk-container-id-1 div.sk-parallel-item:first-child::after {align-self: flex-end;width: 50%;}#sk-container-id-1 div.sk-parallel-item:last-child::after {align-self: flex-start;width: 50%;}#sk-container-id-1 div.sk-parallel-item:only-child::after {width: 0;}#sk-container-id-1 div.sk-dashed-wrapped {border: 1px dashed gray;margin: 0 0.4em 0.5em 0.4em;box-sizing: border-box;padding-bottom: 0.4em;background-color: white;}#sk-container-id-1 div.sk-label label {font-family: monospace;font-weight: bold;display: inline-block;line-height: 1.2em;}#sk-container-id-1 div.sk-label-container {text-align: center;}#sk-container-id-1 div.sk-container {/* jupyter's `normalize.less` sets `[hidden] { display: none; }` but bootstrap.min.css set `[hidden] { display: none !important; }` so we also need the `!important` here to be able to override the default hidden behavior on the sphinx rendered scikit-learn.org. See: https://github.com/scikit-learn/scikit-learn/issues/21755 */display: inline-block !important;position: relative;}#sk-container-id-1 div.sk-text-repr-fallback {display: none;}</style><div id=\"sk-container-id-1\" class=\"sk-top-container\"><div class=\"sk-text-repr-fallback\"><pre>LogisticRegression(max_iter=10000, penalty=&#x27;l1&#x27;, solver=&#x27;liblinear&#x27;)</pre><b>In a Jupyter environment, please rerun this cell to show the HTML representation or trust the notebook. <br />On GitHub, the HTML representation is unable to render, please try loading this page with nbviewer.org.</b></div><div class=\"sk-container\" hidden><div class=\"sk-item\"><div class=\"sk-estimator sk-toggleable\"><input class=\"sk-toggleable__control sk-hidden--visually\" id=\"sk-estimator-id-1\" type=\"checkbox\" checked><label for=\"sk-estimator-id-1\" class=\"sk-toggleable__label sk-toggleable__label-arrow\">LogisticRegression</label><div class=\"sk-toggleable__content\"><pre>LogisticRegression(max_iter=10000, penalty=&#x27;l1&#x27;, solver=&#x27;liblinear&#x27;)</pre></div></div></div></div></div>"
      ],
      "text/plain": [
       "LogisticRegression(max_iter=10000, penalty='l1', solver='liblinear')"
      ]
     },
     "execution_count": 9,
     "metadata": {},
     "output_type": "execute_result"
    }
   ],
   "source": [
    "model = LogisticRegression(C=1.0, penalty ='l1',solver='liblinear', max_iter=10000)\n",
    "model.fit(X_train, y_train)"
   ]
  },
  {
   "cell_type": "code",
   "execution_count": 10,
   "id": "01d6d452",
   "metadata": {},
   "outputs": [
    {
     "name": "stdout",
     "output_type": "stream",
     "text": [
      "Accuracy: 0.6158436117126448\n"
     ]
    }
   ],
   "source": [
    "from sklearn.metrics import accuracy_score\n",
    "\n",
    "# Predict the test data\n",
    "y_pred = model.predict(X_test)\n",
    "\n",
    "# Calculate the accuracy score\n",
    "accuracy = accuracy_score(y_test, y_pred)\n",
    "print('Accuracy:', accuracy)"
   ]
  },
  {
   "cell_type": "code",
   "execution_count": 11,
   "id": "ea9e0dd6",
   "metadata": {
    "scrolled": true
   },
   "outputs": [
    {
     "name": "stdout",
     "output_type": "stream",
     "text": [
      "                                              Feature  Coefficient  abs_coef\n",
      "27        onehotencoder__hoepa_status_name_HOEPA loan     2.309479  2.309479\n",
      "24  onehotencoder__lien_status_name_Not secured by...    -0.855443  0.855443\n",
      "55  onehotencoder__applicant_ethnicity_name_Not ap...     0.741525  0.741525\n",
      "43  onehotencoder__co_applicant_ethnicity_name_Not...     0.727007  0.727007\n",
      "22     onehotencoder__loan_purpose_name_Home purchase     0.653415  0.653415\n",
      "61  onehotencoder__agency_name_Office of the Compt...     0.622175  0.622175\n",
      "58  onehotencoder__agency_name_Federal Deposit Ins...     0.595158  0.595158\n",
      "8   onehotencoder__property_type_name_Manufactured...    -0.442022  0.442022\n",
      "9   onehotencoder__property_type_name_Multifamily ...    -0.418025  0.418025\n",
      "32  onehotencoder__co_applicant_sex_name_Not appli...    -0.401402  0.401402\n",
      "23       onehotencoder__loan_purpose_name_Refinancing    -0.389400  0.389400\n",
      "20        onehotencoder__loan_type_name_VA-guaranteed     0.362331  0.362331\n",
      "26  onehotencoder__lien_status_name_Secured by a s...    -0.323556  0.323556\n",
      "49  onehotencoder__applicant_race_name_1_Black or ...    -0.323144  0.323144\n",
      "33  onehotencoder__co_applicant_race_name_1_Americ...     0.274853  0.274853\n",
      "60  onehotencoder__agency_name_National Credit Uni...     0.240026  0.240026\n",
      "6                  pipeline__hud_median_family_income     0.198648  0.198648\n",
      "29        onehotencoder__co_applicant_sex_name_Female     0.193756  0.193756\n",
      "13  onehotencoder__preapproval_name_Preapproval wa...     0.193754  0.193754\n",
      "18          onehotencoder__loan_type_name_FHA-insured    -0.181913  0.181913\n"
     ]
    }
   ],
   "source": [
    "# Get the coefficients (weights) of the model\n",
    "coefficients = model.coef_\n",
    "    \n",
    "# Create a dataframe of feature names and their corresponding coefficients\n",
    "feature_importance = pd.DataFrame(list(zip(X_train.columns, coefficients[0])), columns=['Feature', 'Coefficient'])\n",
    "\n",
    "# Sort the features by their absolute coefficient values in descending order\n",
    "feature_importance['abs_coef'] = feature_importance['Coefficient'].abs()\n",
    "feature_importance = feature_importance.sort_values('abs_coef', ascending=False)\n",
    "\n",
    "# Print the top 10 features with the highest absolute coefficient values\n",
    "print(feature_importance.head(20))"
   ]
  },
  {
   "cell_type": "code",
   "execution_count": 12,
   "id": "f0b04cd4",
   "metadata": {},
   "outputs": [
    {
     "name": "stdout",
     "output_type": "stream",
     "text": [
      "onehotencoder__co_applicant_sex_name_Female0.009 +/- 0.000\n",
      "onehotencoder__co_applicant_sex_name_No co-applicant0.008 +/- 0.000\n",
      "onehotencoder__co_applicant_race_name_1_White0.008 +/- 0.000\n",
      "pipeline__hud_median_family_income0.007 +/- 0.001\n",
      "onehotencoder__loan_purpose_name_Home purchase0.006 +/- 0.001\n",
      "pipeline__tract_to_msamd_income0.004 +/- 0.000\n",
      "onehotencoder__loan_type_name_VA-guaranteed0.003 +/- 0.000\n",
      "pipeline__applicant_income_000s0.003 +/- 0.000\n",
      "onehotencoder__agency_name_Federal Deposit Insurance Corporation0.002 +/- 0.000\n",
      "onehotencoder__lien_status_name_Not secured by a lien0.002 +/- 0.000\n",
      "onehotencoder__loan_type_name_FHA-insured0.002 +/- 0.000\n",
      "onehotencoder__property_type_name_Manufactured housing0.002 +/- 0.000\n",
      "onehotencoder__agency_name_National Credit Union Administration0.002 +/- 0.000\n",
      "pipeline__population          0.001 +/- 0.001\n",
      "onehotencoder__applicant_race_name_1_Asian0.001 +/- 0.000\n",
      "onehotencoder__applicant_race_name_1_Black or African American0.001 +/- 0.000\n",
      "onehotencoder__applicant_race_name_1_White0.001 +/- 0.000\n",
      "onehotencoder__owner_occupancy_name_Not owner-occupied as a principal dwelling0.001 +/- 0.000\n",
      "onehotencoder__property_type_name_One-to-four family dwelling (other than manufactured housing)0.001 +/- 0.000\n",
      "onehotencoder__applicant_ethnicity_name_Hispanic or Latino0.000 +/- 0.000\n",
      "onehotencoder__agency_name_Office of the Comptroller of the Currency0.000 +/- 0.000\n",
      "pipeline__number_of_1_to_4_family_units0.000 +/- 0.000\n",
      "onehotencoder__applicant_race_name_1_American Indian or Alaska Native0.000 +/- 0.000\n",
      "onehotencoder__co_applicant_race_name_1_Asian0.000 +/- 0.000\n",
      "onehotencoder__property_type_name_Multifamily dwelling0.000 +/- 0.000\n",
      "onehotencoder__co_applicant_race_name_1_Black or African American0.000 +/- 0.000\n",
      "onehotencoder__co_applicant_ethnicity_name_Hispanic or Latino0.000 +/- 0.000\n",
      "onehotencoder__loan_purpose_name_Home improvement0.000 +/- 0.000\n",
      "onehotencoder__lien_status_name_Secured by a first lien0.000 +/- 0.000\n",
      "onehotencoder__agency_name_Department of Housing and Urban Development0.000 +/- 0.000\n",
      "pipeline__number_of_owner_occupied_units0.000 +/- 0.000\n",
      "onehotencoder__agency_name_Federal Reserve System0.000 +/- 0.000\n",
      "onehotencoder__owner_occupancy_name_Owner-occupied as a principal dwelling0.000 +/- 0.000\n",
      "pipeline__minority_population 0.000 +/- 0.000\n",
      "onehotencoder__co_applicant_race_name_1_Native Hawaiian or Other Pacific Islander0.000 +/- 0.000\n",
      "onehotencoder__hoepa_status_name_HOEPA loan0.000 +/- 0.000\n",
      "onehotencoder__owner_occupancy_name_Not applicable0.000 +/- 0.000\n",
      "onehotencoder__co_applicant_ethnicity_name_Not applicable0.000 +/- 0.000\n",
      "onehotencoder__co_applicant_race_name_1_Not applicable0.000 +/- 0.000\n",
      "onehotencoder__co_applicant_sex_name_Not applicable0.000 +/- 0.000\n",
      "onehotencoder__co_applicant_sex_name_Male0.000 +/- 0.000\n",
      "onehotencoder__applicant_ethnicity_name_Not Hispanic or Latino0.000 +/- 0.000\n",
      "onehotencoder__co_applicant_ethnicity_name_Not Hispanic or Latino0.000 +/- 0.000\n",
      "onehotencoder__loan_type_name_Conventional0.000 +/- 0.000\n",
      "onehotencoder__co_applicant_race_name_1_No co-applicant0.000 +/- 0.000\n",
      "onehotencoder__applicant_sex_name_Female0.000 +/- 0.000\n",
      "onehotencoder__region_Eastern Washington0.000 +/- 0.000\n",
      "onehotencoder__co_applicant_ethnicity_name_No co-applicant0.000 +/- 0.000\n",
      "onehotencoder__hoepa_status_name_Not a HOEPA loan-0.000 +/- 0.000\n",
      "pipeline__loan_amount_000s    -0.000 +/- 0.000\n",
      "onehotencoder__loan_type_name_FSA/RHS-guaranteed-0.000 +/- 0.000\n",
      "onehotencoder__applicant_ethnicity_name_Not applicable-0.000 +/- 0.000\n",
      "onehotencoder__region_Olympic Peninsula-0.000 +/- 0.000\n",
      "onehotencoder__region_Northern Cascades-0.000 +/- 0.000\n",
      "onehotencoder__co_applicant_race_name_1_American Indian or Alaska Native-0.000 +/- 0.000\n",
      "onehotencoder__region_Western Region-0.000 +/- 0.000\n",
      "onehotencoder__applicant_race_name_1_Native Hawaiian or Other Pacific Islander-0.000 +/- 0.000\n",
      "onehotencoder__applicant_sex_name_Not applicable-0.000 +/- 0.000\n",
      "onehotencoder__agency_name_Consumer Financial Protection Bureau-0.000 +/- 0.000\n",
      "onehotencoder__region_Southwest Washington-0.000 +/- 0.000\n",
      "onehotencoder__lien_status_name_Secured by a subordinate lien-0.000 +/- 0.000\n",
      "onehotencoder__applicant_race_name_1_Not applicable-0.000 +/- 0.000\n",
      "onehotencoder__preapproval_name_Preapproval was requested-0.001 +/- 0.000\n",
      "onehotencoder__preapproval_name_Not applicable-0.001 +/- 0.000\n",
      "onehotencoder__applicant_sex_name_Male-0.001 +/- 0.000\n",
      "onehotencoder__preapproval_name_Preapproval was not requested-0.002 +/- 0.000\n",
      "onehotencoder__loan_purpose_name_Refinancing-0.013 +/- 0.001\n"
     ]
    }
   ],
   "source": [
    "from sklearn.inspection import permutation_importance\n",
    "\n",
    "# Compute feature importance with permutation\n",
    "result = permutation_importance(model, X_test, y_test, n_repeats=10)\n",
    "\n",
    "# Print feature importance\n",
    "for i in result.importances_mean.argsort()[::-1]:\n",
    "    print(f\"{X_train.columns[i]:<30}\"\n",
    "          f\"{result.importances_mean[i]:.3f}\"\n",
    "          f\" +/- {result.importances_std[i]:.3f}\")"
   ]
  },
  {
   "cell_type": "code",
   "execution_count": 13,
   "id": "d41caf2d",
   "metadata": {},
   "outputs": [
    {
     "name": "stdout",
     "output_type": "stream",
     "text": [
      "Accuracy: 0.7487524715186894\n"
     ]
    }
   ],
   "source": [
    "from sklearn.ensemble import RandomForestClassifier\n",
    "\n",
    "# Define the RandomForest classifier\n",
    "rfc = RandomForestClassifier(max_depth = 30, max_features = 'sqrt', n_estimators = 200)\n",
    "\n",
    "# Train the classifier\n",
    "rfc.fit(X_train, y_train)\n",
    "\n",
    "# Predict the test data\n",
    "y_pred = rfc.predict(X_test)\n",
    "\n",
    "# Calculate the accuracy score\n",
    "accuracy = accuracy_score(y_test, y_pred)\n",
    "print('Accuracy:', accuracy)"
   ]
  },
  {
   "cell_type": "code",
   "execution_count": 14,
   "id": "5ac0a128",
   "metadata": {},
   "outputs": [
    {
     "name": "stdout",
     "output_type": "stream",
     "text": [
      "Accuracy: 0.7257320402975238\n"
     ]
    }
   ],
   "source": [
    "from xgboost import XGBClassifier\n",
    "\n",
    "# Define the XGBoost classifier\n",
    "xgb_clf = XGBClassifier(objective='binary:logistic', learning_rate=0.1, max_depth=7, n_estimators=50)\n",
    "\n",
    "# Train the classifier\n",
    "xgb_clf.fit(X_train, y_train)\n",
    "\n",
    "# Predict the test data\n",
    "y_pred = xgb_clf.predict(X_test)\n",
    "\n",
    "# Calculate the accuracy score\n",
    "accuracy = accuracy_score(y_test, y_pred)\n",
    "print('Accuracy:', accuracy)"
   ]
  },
  {
   "cell_type": "code",
   "execution_count": 15,
   "id": "4c362379",
   "metadata": {},
   "outputs": [
    {
     "ename": "NameError",
     "evalue": "name 'xgb_clf_clf' is not defined",
     "output_type": "error",
     "traceback": [
      "\u001b[0;31m---------------------------------------------------------------------------\u001b[0m",
      "\u001b[0;31mNameError\u001b[0m                                 Traceback (most recent call last)",
      "Cell \u001b[0;32mIn [15], line 4\u001b[0m\n\u001b[1;32m      1\u001b[0m \u001b[38;5;28;01mfrom\u001b[39;00m \u001b[38;5;21;01msklearn\u001b[39;00m\u001b[38;5;21;01m.\u001b[39;00m\u001b[38;5;21;01mensemble\u001b[39;00m \u001b[38;5;28;01mimport\u001b[39;00m VotingClassifier\n\u001b[1;32m      3\u001b[0m \u001b[38;5;66;03m# Define the ensemble model\u001b[39;00m\n\u001b[0;32m----> 4\u001b[0m ensemble_model \u001b[38;5;241m=\u001b[39m VotingClassifier(estimators\u001b[38;5;241m=\u001b[39m[(\u001b[38;5;124m'\u001b[39m\u001b[38;5;124mrf\u001b[39m\u001b[38;5;124m'\u001b[39m, rfc), (\u001b[38;5;124m'\u001b[39m\u001b[38;5;124mxgb\u001b[39m\u001b[38;5;124m'\u001b[39m, xgb_clf_clf)], voting\u001b[38;5;241m=\u001b[39m\u001b[38;5;124m'\u001b[39m\u001b[38;5;124msoft\u001b[39m\u001b[38;5;124m'\u001b[39m)\n\u001b[1;32m      6\u001b[0m \u001b[38;5;66;03m# Train the ensemble model\u001b[39;00m\n\u001b[1;32m      7\u001b[0m ensemble_model\u001b[38;5;241m.\u001b[39mfit(X_train, y_train)\n",
      "\u001b[0;31mNameError\u001b[0m: name 'xgb_clf_clf' is not defined"
     ]
    }
   ],
   "source": [
    "from sklearn.ensemble import VotingClassifier\n",
    "\n",
    "# Define the ensemble model\n",
    "ensemble_model = VotingClassifier(estimators=[('rf', rfc), ('xgb', xgb_clf)], voting='soft')\n",
    "\n",
    "# Train the ensemble model\n",
    "ensemble_model.fit(X_train, y_train)\n",
    "\n",
    "# Evaluate the ensemble model\n",
    "accuracy = ensemble_model.score(X_test, y_test)\n",
    "print('Accuracy: ', accuracy)"
   ]
  }
 ],
 "metadata": {
  "kernelspec": {
   "display_name": "Python 3 (ipykernel)",
   "language": "python",
   "name": "python3"
  },
  "language_info": {
   "codemirror_mode": {
    "name": "ipython",
    "version": 3
   },
   "file_extension": ".py",
   "mimetype": "text/x-python",
   "name": "python",
   "nbconvert_exporter": "python",
   "pygments_lexer": "ipython3",
   "version": "3.10.6"
  },
  "toc": {
   "base_numbering": 1,
   "nav_menu": {},
   "number_sections": true,
   "sideBar": true,
   "skip_h1_title": false,
   "title_cell": "Table of Contents",
   "title_sidebar": "Contents",
   "toc_cell": false,
   "toc_position": {},
   "toc_section_display": true,
   "toc_window_display": false
  }
 },
 "nbformat": 4,
 "nbformat_minor": 5
}
