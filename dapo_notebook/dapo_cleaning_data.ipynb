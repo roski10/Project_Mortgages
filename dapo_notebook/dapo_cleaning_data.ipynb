{
 "cells": [
  {
   "cell_type": "code",
   "execution_count": 1,
   "id": "56dc31f9",
   "metadata": {},
   "outputs": [],
   "source": [
    "import pandas as pd\n",
    "\n",
    "from scipy.stats.mstats import winsorize\n",
    "\n",
    "import warnings\n",
    "warnings.filterwarnings('ignore')"
   ]
  },
  {
   "cell_type": "markdown",
   "id": "d2d6e7d9",
   "metadata": {},
   "source": [
    "# Washington State HDMA 2016"
   ]
  },
  {
   "cell_type": "code",
   "execution_count": 2,
   "id": "cbf98982",
   "metadata": {},
   "outputs": [],
   "source": [
    "file = \"data/Washington_State_HDMA-2016.csv\"\n",
    "data_original = pd.read_csv(file, decimal=',')"
   ]
  },
  {
   "cell_type": "code",
   "execution_count": 3,
   "id": "f0463b2a",
   "metadata": {},
   "outputs": [
    {
     "data": {
      "text/plain": [
       "(466566, 47)"
      ]
     },
     "execution_count": 3,
     "metadata": {},
     "output_type": "execute_result"
    }
   ],
   "source": [
    "data = data_original.copy()\n",
    "data.shape"
   ]
  },
  {
   "cell_type": "code",
   "execution_count": 6,
   "id": "e27138cd",
   "metadata": {},
   "outputs": [
    {
     "data": {
      "text/plain": [
       "(283225, 24)"
      ]
     },
     "execution_count": 6,
     "metadata": {},
     "output_type": "execute_result"
    }
   ],
   "source": [
    "data.shape"
   ]
  },
  {
   "cell_type": "code",
   "execution_count": 7,
   "id": "912579f7",
   "metadata": {},
   "outputs": [
    {
     "data": {
      "text/plain": [
       "['tract_to_msamd_income',\n",
       " 'population',\n",
       " 'minority_population',\n",
       " 'number_of_owner_occupied_units',\n",
       " 'number_of_1_to_4_family_units',\n",
       " 'loan_amount_000s',\n",
       " 'hud_median_family_income',\n",
       " 'applicant_income_000s',\n",
       " 'property_type_name',\n",
       " 'preapproval_name',\n",
       " 'owner_occupancy_name',\n",
       " 'loan_type_name',\n",
       " 'loan_purpose_name',\n",
       " 'lien_status_name',\n",
       " 'hoepa_status_name',\n",
       " 'co_applicant_sex_name',\n",
       " 'co_applicant_race_name_1',\n",
       " 'co_applicant_ethnicity_name',\n",
       " 'applicant_sex_name',\n",
       " 'applicant_race_name_1',\n",
       " 'applicant_ethnicity_name',\n",
       " 'agency_name',\n",
       " 'Region',\n",
       " 'loan_status']"
      ]
     },
     "execution_count": 7,
     "metadata": {},
     "output_type": "execute_result"
    }
   ],
   "source": [
    "data.columns.to_list()"
   ]
  },
  {
   "cell_type": "markdown",
   "id": "e45e6d49",
   "metadata": {},
   "source": [
    "## Cleaning Data"
   ]
  },
  {
   "cell_type": "code",
   "execution_count": 8,
   "id": "93d34be8",
   "metadata": {},
   "outputs": [
    {
     "name": "stdout",
     "output_type": "stream",
     "text": [
      "<class 'pandas.core.frame.DataFrame'>\n",
      "Int64Index: 283225 entries, 1 to 466565\n",
      "Data columns (total 24 columns):\n",
      " #   Column                          Non-Null Count   Dtype  \n",
      "---  ------                          --------------   -----  \n",
      " 0   tract_to_msamd_income           283152 non-null  float64\n",
      " 1   population                      283155 non-null  float64\n",
      " 2   minority_population             283155 non-null  float64\n",
      " 3   number_of_owner_occupied_units  283150 non-null  float64\n",
      " 4   number_of_1_to_4_family_units   283154 non-null  float64\n",
      " 5   loan_amount_000s                283225 non-null  float64\n",
      " 6   hud_median_family_income        283157 non-null  float64\n",
      " 7   applicant_income_000s           260191 non-null  float64\n",
      " 8   property_type_name              283225 non-null  object \n",
      " 9   preapproval_name                283225 non-null  object \n",
      " 10  owner_occupancy_name            283225 non-null  object \n",
      " 11  loan_type_name                  283225 non-null  object \n",
      " 12  loan_purpose_name               283225 non-null  object \n",
      " 13  lien_status_name                283225 non-null  object \n",
      " 14  hoepa_status_name               283225 non-null  object \n",
      " 15  co_applicant_sex_name           283225 non-null  object \n",
      " 16  co_applicant_race_name_1        283225 non-null  object \n",
      " 17  co_applicant_ethnicity_name     283225 non-null  object \n",
      " 18  applicant_sex_name              283225 non-null  object \n",
      " 19  applicant_race_name_1           283225 non-null  object \n",
      " 20  applicant_ethnicity_name        283225 non-null  object \n",
      " 21  agency_name                     283225 non-null  object \n",
      " 22  Region                          283225 non-null  object \n",
      " 23  loan_status                     283225 non-null  object \n",
      "dtypes: float64(8), object(16)\n",
      "memory usage: 54.0+ MB\n"
     ]
    }
   ],
   "source": [
    "data.info()"
   ]
  },
  {
   "cell_type": "markdown",
   "id": "d575a9b9",
   "metadata": {},
   "source": [
    "### Check for missing values: Use functions such as isna(), isnull(), or notnull() to detect missing values in your dataset."
   ]
  },
  {
   "cell_type": "code",
   "execution_count": 9,
   "id": "98a80e59",
   "metadata": {},
   "outputs": [
    {
     "data": {
      "text/html": [
       "<div>\n",
       "<style scoped>\n",
       "    .dataframe tbody tr th:only-of-type {\n",
       "        vertical-align: middle;\n",
       "    }\n",
       "\n",
       "    .dataframe tbody tr th {\n",
       "        vertical-align: top;\n",
       "    }\n",
       "\n",
       "    .dataframe thead th {\n",
       "        text-align: right;\n",
       "    }\n",
       "</style>\n",
       "<table border=\"1\" class=\"dataframe\">\n",
       "  <thead>\n",
       "    <tr style=\"text-align: right;\">\n",
       "      <th></th>\n",
       "      <th>is_null</th>\n",
       "      <th>not_null</th>\n",
       "      <th>percent_null</th>\n",
       "    </tr>\n",
       "  </thead>\n",
       "  <tbody>\n",
       "    <tr>\n",
       "      <th>applicant_income_000s</th>\n",
       "      <td>23034</td>\n",
       "      <td>260191</td>\n",
       "      <td>8.13</td>\n",
       "    </tr>\n",
       "    <tr>\n",
       "      <th>number_of_owner_occupied_units</th>\n",
       "      <td>75</td>\n",
       "      <td>283150</td>\n",
       "      <td>0.03</td>\n",
       "    </tr>\n",
       "    <tr>\n",
       "      <th>tract_to_msamd_income</th>\n",
       "      <td>73</td>\n",
       "      <td>283152</td>\n",
       "      <td>0.03</td>\n",
       "    </tr>\n",
       "    <tr>\n",
       "      <th>number_of_1_to_4_family_units</th>\n",
       "      <td>71</td>\n",
       "      <td>283154</td>\n",
       "      <td>0.03</td>\n",
       "    </tr>\n",
       "    <tr>\n",
       "      <th>minority_population</th>\n",
       "      <td>70</td>\n",
       "      <td>283155</td>\n",
       "      <td>0.02</td>\n",
       "    </tr>\n",
       "    <tr>\n",
       "      <th>population</th>\n",
       "      <td>70</td>\n",
       "      <td>283155</td>\n",
       "      <td>0.02</td>\n",
       "    </tr>\n",
       "    <tr>\n",
       "      <th>hud_median_family_income</th>\n",
       "      <td>68</td>\n",
       "      <td>283157</td>\n",
       "      <td>0.02</td>\n",
       "    </tr>\n",
       "    <tr>\n",
       "      <th>co_applicant_sex_name</th>\n",
       "      <td>0</td>\n",
       "      <td>283225</td>\n",
       "      <td>0.00</td>\n",
       "    </tr>\n",
       "    <tr>\n",
       "      <th>Region</th>\n",
       "      <td>0</td>\n",
       "      <td>283225</td>\n",
       "      <td>0.00</td>\n",
       "    </tr>\n",
       "    <tr>\n",
       "      <th>agency_name</th>\n",
       "      <td>0</td>\n",
       "      <td>283225</td>\n",
       "      <td>0.00</td>\n",
       "    </tr>\n",
       "    <tr>\n",
       "      <th>applicant_ethnicity_name</th>\n",
       "      <td>0</td>\n",
       "      <td>283225</td>\n",
       "      <td>0.00</td>\n",
       "    </tr>\n",
       "    <tr>\n",
       "      <th>applicant_race_name_1</th>\n",
       "      <td>0</td>\n",
       "      <td>283225</td>\n",
       "      <td>0.00</td>\n",
       "    </tr>\n",
       "    <tr>\n",
       "      <th>applicant_sex_name</th>\n",
       "      <td>0</td>\n",
       "      <td>283225</td>\n",
       "      <td>0.00</td>\n",
       "    </tr>\n",
       "    <tr>\n",
       "      <th>co_applicant_ethnicity_name</th>\n",
       "      <td>0</td>\n",
       "      <td>283225</td>\n",
       "      <td>0.00</td>\n",
       "    </tr>\n",
       "    <tr>\n",
       "      <th>co_applicant_race_name_1</th>\n",
       "      <td>0</td>\n",
       "      <td>283225</td>\n",
       "      <td>0.00</td>\n",
       "    </tr>\n",
       "    <tr>\n",
       "      <th>loan_purpose_name</th>\n",
       "      <td>0</td>\n",
       "      <td>283225</td>\n",
       "      <td>0.00</td>\n",
       "    </tr>\n",
       "    <tr>\n",
       "      <th>hoepa_status_name</th>\n",
       "      <td>0</td>\n",
       "      <td>283225</td>\n",
       "      <td>0.00</td>\n",
       "    </tr>\n",
       "    <tr>\n",
       "      <th>lien_status_name</th>\n",
       "      <td>0</td>\n",
       "      <td>283225</td>\n",
       "      <td>0.00</td>\n",
       "    </tr>\n",
       "    <tr>\n",
       "      <th>loan_type_name</th>\n",
       "      <td>0</td>\n",
       "      <td>283225</td>\n",
       "      <td>0.00</td>\n",
       "    </tr>\n",
       "    <tr>\n",
       "      <th>owner_occupancy_name</th>\n",
       "      <td>0</td>\n",
       "      <td>283225</td>\n",
       "      <td>0.00</td>\n",
       "    </tr>\n",
       "    <tr>\n",
       "      <th>preapproval_name</th>\n",
       "      <td>0</td>\n",
       "      <td>283225</td>\n",
       "      <td>0.00</td>\n",
       "    </tr>\n",
       "    <tr>\n",
       "      <th>property_type_name</th>\n",
       "      <td>0</td>\n",
       "      <td>283225</td>\n",
       "      <td>0.00</td>\n",
       "    </tr>\n",
       "    <tr>\n",
       "      <th>loan_amount_000s</th>\n",
       "      <td>0</td>\n",
       "      <td>283225</td>\n",
       "      <td>0.00</td>\n",
       "    </tr>\n",
       "    <tr>\n",
       "      <th>loan_status</th>\n",
       "      <td>0</td>\n",
       "      <td>283225</td>\n",
       "      <td>0.00</td>\n",
       "    </tr>\n",
       "  </tbody>\n",
       "</table>\n",
       "</div>"
      ],
      "text/plain": [
       "                                is_null  not_null  percent_null\n",
       "applicant_income_000s             23034    260191          8.13\n",
       "number_of_owner_occupied_units       75    283150          0.03\n",
       "tract_to_msamd_income                73    283152          0.03\n",
       "number_of_1_to_4_family_units        71    283154          0.03\n",
       "minority_population                  70    283155          0.02\n",
       "population                           70    283155          0.02\n",
       "hud_median_family_income             68    283157          0.02\n",
       "co_applicant_sex_name                 0    283225          0.00\n",
       "Region                                0    283225          0.00\n",
       "agency_name                           0    283225          0.00\n",
       "applicant_ethnicity_name              0    283225          0.00\n",
       "applicant_race_name_1                 0    283225          0.00\n",
       "applicant_sex_name                    0    283225          0.00\n",
       "co_applicant_ethnicity_name           0    283225          0.00\n",
       "co_applicant_race_name_1              0    283225          0.00\n",
       "loan_purpose_name                     0    283225          0.00\n",
       "hoepa_status_name                     0    283225          0.00\n",
       "lien_status_name                      0    283225          0.00\n",
       "loan_type_name                        0    283225          0.00\n",
       "owner_occupancy_name                  0    283225          0.00\n",
       "preapproval_name                      0    283225          0.00\n",
       "property_type_name                    0    283225          0.00\n",
       "loan_amount_000s                      0    283225          0.00\n",
       "loan_status                           0    283225          0.00"
      ]
     },
     "execution_count": 9,
     "metadata": {},
     "output_type": "execute_result"
    }
   ],
   "source": [
    "null_df = pd.concat([data.isnull().sum().sort_values(ascending=False),\n",
    "                     data.notnull().sum().sort_values(ascending=True)],\n",
    "                    axis=1, keys=['is_null', 'not_null'])\n",
    "\n",
    "null_df['percent_null'] = round((null_df['is_null'] / len(data)) * 100, 2)\n",
    "\n",
    "null_df"
   ]
  },
  {
   "cell_type": "code",
   "execution_count": 10,
   "id": "314a0136",
   "metadata": {},
   "outputs": [
    {
     "ename": "KeyError",
     "evalue": "'action_taken_name'",
     "output_type": "error",
     "traceback": [
      "\u001b[0;31m---------------------------------------------------------------------------\u001b[0m",
      "\u001b[0;31mKeyError\u001b[0m                                  Traceback (most recent call last)",
      "File \u001b[0;32m~/.pyenv/versions/3.10.6/envs/Lewagon/lib/python3.10/site-packages/pandas/core/indexes/base.py:3800\u001b[0m, in \u001b[0;36mIndex.get_loc\u001b[0;34m(self, key, method, tolerance)\u001b[0m\n\u001b[1;32m   3799\u001b[0m \u001b[38;5;28;01mtry\u001b[39;00m:\n\u001b[0;32m-> 3800\u001b[0m     \u001b[38;5;28;01mreturn\u001b[39;00m \u001b[38;5;28;43mself\u001b[39;49m\u001b[38;5;241;43m.\u001b[39;49m\u001b[43m_engine\u001b[49m\u001b[38;5;241;43m.\u001b[39;49m\u001b[43mget_loc\u001b[49m\u001b[43m(\u001b[49m\u001b[43mcasted_key\u001b[49m\u001b[43m)\u001b[49m\n\u001b[1;32m   3801\u001b[0m \u001b[38;5;28;01mexcept\u001b[39;00m \u001b[38;5;167;01mKeyError\u001b[39;00m \u001b[38;5;28;01mas\u001b[39;00m err:\n",
      "File \u001b[0;32m~/.pyenv/versions/3.10.6/envs/Lewagon/lib/python3.10/site-packages/pandas/_libs/index.pyx:138\u001b[0m, in \u001b[0;36mpandas._libs.index.IndexEngine.get_loc\u001b[0;34m()\u001b[0m\n",
      "File \u001b[0;32m~/.pyenv/versions/3.10.6/envs/Lewagon/lib/python3.10/site-packages/pandas/_libs/index.pyx:165\u001b[0m, in \u001b[0;36mpandas._libs.index.IndexEngine.get_loc\u001b[0;34m()\u001b[0m\n",
      "File \u001b[0;32mpandas/_libs/hashtable_class_helper.pxi:5745\u001b[0m, in \u001b[0;36mpandas._libs.hashtable.PyObjectHashTable.get_item\u001b[0;34m()\u001b[0m\n",
      "File \u001b[0;32mpandas/_libs/hashtable_class_helper.pxi:5753\u001b[0m, in \u001b[0;36mpandas._libs.hashtable.PyObjectHashTable.get_item\u001b[0;34m()\u001b[0m\n",
      "\u001b[0;31mKeyError\u001b[0m: 'action_taken_name'",
      "\nThe above exception was the direct cause of the following exception:\n",
      "\u001b[0;31mKeyError\u001b[0m                                  Traceback (most recent call last)",
      "Cell \u001b[0;32mIn [10], line 1\u001b[0m\n\u001b[0;32m----> 1\u001b[0m y_df \u001b[38;5;241m=\u001b[39m pd\u001b[38;5;241m.\u001b[39mDataFrame(data[\u001b[38;5;124m'\u001b[39m\u001b[38;5;124maction_taken_name\u001b[39m\u001b[38;5;124m'\u001b[39m]\u001b[38;5;241m.\u001b[39mvalue_counts())\n\u001b[1;32m      3\u001b[0m y_df[\u001b[38;5;124m'\u001b[39m\u001b[38;5;124mpercentage_column\u001b[39m\u001b[38;5;124m'\u001b[39m] \u001b[38;5;241m=\u001b[39m y_df[\u001b[38;5;124m'\u001b[39m\u001b[38;5;124maction_taken_name\u001b[39m\u001b[38;5;124m'\u001b[39m] \u001b[38;5;241m/\u001b[39m y_df[\u001b[38;5;124m'\u001b[39m\u001b[38;5;124maction_taken_name\u001b[39m\u001b[38;5;124m'\u001b[39m]\u001b[38;5;241m.\u001b[39msum() \u001b[38;5;241m*\u001b[39m \u001b[38;5;241m100\u001b[39m\n\u001b[1;32m      5\u001b[0m \u001b[38;5;28mround\u001b[39m(y_df, \u001b[38;5;241m2\u001b[39m)\n",
      "File \u001b[0;32m~/.pyenv/versions/3.10.6/envs/Lewagon/lib/python3.10/site-packages/pandas/core/frame.py:3805\u001b[0m, in \u001b[0;36mDataFrame.__getitem__\u001b[0;34m(self, key)\u001b[0m\n\u001b[1;32m   3803\u001b[0m \u001b[38;5;28;01mif\u001b[39;00m \u001b[38;5;28mself\u001b[39m\u001b[38;5;241m.\u001b[39mcolumns\u001b[38;5;241m.\u001b[39mnlevels \u001b[38;5;241m>\u001b[39m \u001b[38;5;241m1\u001b[39m:\n\u001b[1;32m   3804\u001b[0m     \u001b[38;5;28;01mreturn\u001b[39;00m \u001b[38;5;28mself\u001b[39m\u001b[38;5;241m.\u001b[39m_getitem_multilevel(key)\n\u001b[0;32m-> 3805\u001b[0m indexer \u001b[38;5;241m=\u001b[39m \u001b[38;5;28;43mself\u001b[39;49m\u001b[38;5;241;43m.\u001b[39;49m\u001b[43mcolumns\u001b[49m\u001b[38;5;241;43m.\u001b[39;49m\u001b[43mget_loc\u001b[49m\u001b[43m(\u001b[49m\u001b[43mkey\u001b[49m\u001b[43m)\u001b[49m\n\u001b[1;32m   3806\u001b[0m \u001b[38;5;28;01mif\u001b[39;00m is_integer(indexer):\n\u001b[1;32m   3807\u001b[0m     indexer \u001b[38;5;241m=\u001b[39m [indexer]\n",
      "File \u001b[0;32m~/.pyenv/versions/3.10.6/envs/Lewagon/lib/python3.10/site-packages/pandas/core/indexes/base.py:3802\u001b[0m, in \u001b[0;36mIndex.get_loc\u001b[0;34m(self, key, method, tolerance)\u001b[0m\n\u001b[1;32m   3800\u001b[0m     \u001b[38;5;28;01mreturn\u001b[39;00m \u001b[38;5;28mself\u001b[39m\u001b[38;5;241m.\u001b[39m_engine\u001b[38;5;241m.\u001b[39mget_loc(casted_key)\n\u001b[1;32m   3801\u001b[0m \u001b[38;5;28;01mexcept\u001b[39;00m \u001b[38;5;167;01mKeyError\u001b[39;00m \u001b[38;5;28;01mas\u001b[39;00m err:\n\u001b[0;32m-> 3802\u001b[0m     \u001b[38;5;28;01mraise\u001b[39;00m \u001b[38;5;167;01mKeyError\u001b[39;00m(key) \u001b[38;5;28;01mfrom\u001b[39;00m \u001b[38;5;21;01merr\u001b[39;00m\n\u001b[1;32m   3803\u001b[0m \u001b[38;5;28;01mexcept\u001b[39;00m \u001b[38;5;167;01mTypeError\u001b[39;00m:\n\u001b[1;32m   3804\u001b[0m     \u001b[38;5;66;03m# If we have a listlike key, _check_indexing_error will raise\u001b[39;00m\n\u001b[1;32m   3805\u001b[0m     \u001b[38;5;66;03m#  InvalidIndexError. Otherwise we fall through and re-raise\u001b[39;00m\n\u001b[1;32m   3806\u001b[0m     \u001b[38;5;66;03m#  the TypeError.\u001b[39;00m\n\u001b[1;32m   3807\u001b[0m     \u001b[38;5;28mself\u001b[39m\u001b[38;5;241m.\u001b[39m_check_indexing_error(key)\n",
      "\u001b[0;31mKeyError\u001b[0m: 'action_taken_name'"
     ]
    }
   ],
   "source": [
    "y_df = pd.DataFrame(data['action_taken_name'].value_counts())\n",
    "\n",
    "y_df['percentage_column'] = y_df['action_taken_name'] / y_df['action_taken_name'].sum() * 100\n",
    "\n",
    "round(y_df, 2)"
   ]
  },
  {
   "cell_type": "code",
   "execution_count": null,
   "id": "7bb7c34e",
   "metadata": {},
   "outputs": [],
   "source": [
    "cols_drop = ['applicant_race_name_5', 'applicant_race_name_4','applicant_race_name_3','applicant_race_name_2',\n",
    "            'co_applicant_race_name_5','co_applicant_race_name_4','co_applicant_race_name_3','co_applicant_race_name_2',\n",
    "            'denial_reason_name_3','denial_reason_name_2','denial_reason_name_1','rate_spread','edit_status_name',\n",
    "            'respondent_id', 'state_abbr', 'agency_abbr','as_of_year', 'state_name', 'sequence_number'\n",
    "           ]"
   ]
  },
  {
   "cell_type": "code",
   "execution_count": null,
   "id": "0e3db17e",
   "metadata": {},
   "outputs": [],
   "source": [
    "data = data[data.columns.difference(cols_drop)]"
   ]
  },
  {
   "cell_type": "code",
   "execution_count": null,
   "id": "28615456",
   "metadata": {},
   "outputs": [],
   "source": [
    "print(f'data shape: {data.shape}')\n",
    "\n",
    "data.isnull().sum().sort_values(ascending=False)"
   ]
  },
  {
   "cell_type": "markdown",
   "id": "011094e5",
   "metadata": {},
   "source": [
    "### Check for duplicates: Use the duplicated() function to detect duplicate rows in your dataset."
   ]
  },
  {
   "cell_type": "code",
   "execution_count": null,
   "id": "1a1afa87",
   "metadata": {},
   "outputs": [],
   "source": [
    "data[data.duplicated()]"
   ]
  },
  {
   "cell_type": "code",
   "execution_count": null,
   "id": "780db006",
   "metadata": {
    "scrolled": true
   },
   "outputs": [],
   "source": [
    "print(f'Duplicates with respondant ID: {data_original.duplicated().sum()}')\n",
    "print(f'Duplicates without respondant ID: {data.duplicated().sum()}')"
   ]
  },
  {
   "cell_type": "markdown",
   "id": "955e3862",
   "metadata": {},
   "source": [
    "- Same applicant applied twice as they had a different respondent ID"
   ]
  },
  {
   "cell_type": "markdown",
   "id": "59fdabf1",
   "metadata": {},
   "source": [
    "### Check for inconsistent values: Look for inconsistent values across different columns in your dataset."
   ]
  },
  {
   "cell_type": "code",
   "execution_count": null,
   "id": "1b62cf28",
   "metadata": {},
   "outputs": [],
   "source": [
    "# for i in data:\n",
    "#     print(\"\\n\",i,\":\\n\",data[i].unique())"
   ]
  },
  {
   "cell_type": "markdown",
   "id": "021594d8",
   "metadata": {},
   "source": [
    "### Handle inconsistent values: Deleting the rows with inconsistent values."
   ]
  },
  {
   "cell_type": "code",
   "execution_count": null,
   "id": "d8910c92",
   "metadata": {},
   "outputs": [],
   "source": [
    "data = data[~data['action_taken_name'].isin(['Application withdrawn by applicant', 'Loan purchased by the institution', 'File closed for incompleteness'])]\n",
    "data = data[~data['applicant_ethnicity_name'].isin(['Information not provided by applicant in mail, Internet, or telephone application'])]\n",
    "data = data[~data['applicant_race_name_1'].isin(['Information not provided by applicant in mail, Internet, or telephone application'])]\n",
    "data = data[~data['applicant_sex_name'].isin(['Information not provided by applicant in mail, Internet, or telephone application'])]\n",
    "data = data[~data['co_applicant_ethnicity_name'].isin(['Information not provided by applicant in mail, Internet, or telephone application'])]\n",
    "data = data[~data['co_applicant_race_name_1'].isin(['Information not provided by applicant in mail, Internet, or telephone application'])]\n",
    "data = data[~data['co_applicant_sex_name'].isin(['Information not provided by applicant in mail, Internet, or telephone application'])]\n",
    "data =  data.dropna(subset=['county_name'])"
   ]
  },
  {
   "cell_type": "code",
   "execution_count": null,
   "id": "b84db1db",
   "metadata": {},
   "outputs": [],
   "source": [
    "print(f'Data Shape: {data.shape}')"
   ]
  },
  {
   "cell_type": "markdown",
   "id": "c1bb3606",
   "metadata": {},
   "source": [
    "### Check for outliers: Look for data points that are significantly different from the other data points in your dataset."
   ]
  },
  {
   "cell_type": "code",
   "execution_count": null,
   "id": "139e2a23",
   "metadata": {},
   "outputs": [],
   "source": [
    "data_original.describe()"
   ]
  },
  {
   "cell_type": "code",
   "execution_count": null,
   "id": "e23654a5",
   "metadata": {},
   "outputs": [],
   "source": [
    "df_selected = data.drop(data.select_dtypes('object').columns.tolist(),axis=1)\n",
    "\n",
    "for i in df_selected:\n",
    "    data[i] = winsorize(data[i], limits=[0.05, 0.05])\n",
    "\n",
    "data.describe()"
   ]
  },
  {
   "cell_type": "markdown",
   "id": "ea2ff52e",
   "metadata": {},
   "source": [
    "- we're replacing the lowest 5% of values with the value at the 5th percentile, and the highest 5% of values with the value at the 95th percentile, using the 'winsorize' function from 'scipy.stats.mstats'."
   ]
  },
  {
   "cell_type": "code",
   "execution_count": null,
   "id": "ff3e9c93",
   "metadata": {},
   "outputs": [],
   "source": [
    "data.isnull().sum()"
   ]
  },
  {
   "cell_type": "code",
   "execution_count": null,
   "id": "5dba6a07",
   "metadata": {},
   "outputs": [],
   "source": [
    "# --- Data manipulation ---\n",
    "import numpy as np\n",
    "import pandas as pd\n",
    "from scipy.stats.mstats import winsorize\n",
    "\n",
    "def clean_data(data: pd.DataFrame):\n",
    "    # Define list of columns to filter for \"Information not provided\" values\n",
    "    filter_cols = ['applicant_ethnicity_name', 'applicant_race_name_1', 'applicant_sex_name',\n",
    "                   'co_applicant_ethnicity_name', 'co_applicant_race_name_1', 'co_applicant_sex_name']\n",
    "\n",
    "    # Filter for rows where \"action_taken_name\" is not equal to certain values\n",
    "    data = data.loc[~data['action_taken_name'].isin(['Application withdrawn by applicant', 'Loan purchased by the institution', 'File closed for incompleteness'])]\n",
    "\n",
    "    # Filter for rows where values in specified columns are not equal to \"Information not provided\"\n",
    "    for col in filter_cols:\n",
    "        data = data.loc[~data[col].isin(['Information not provided by applicant in mail, Internet, or telephone application'])]\n",
    "\n",
    "        # Create a dictionary of county to region mappings\n",
    "    county_to_region = {\n",
    "        'Whatcom County': 'Northern Cascades','Skagit County': 'Northern Cascades','Snohomish County': 'Northern Cascades',\n",
    "        'King County': 'Western Region','Pierce County': 'Western Region','Kitsap County': 'Western Region',\n",
    "        'Island County': 'Western Region','San Juan County': 'Western Region','Jefferson County': 'Western Region',\n",
    "        'Clallam County': 'Western Region','Mason County': 'Olympic Peninsula','Clark County': 'Southwest Washington',\n",
    "        'Cowlitz County': 'Southwest Washington','Wahkiakum County': 'Southwest Washington','Skamania County': 'Southwest Washington',\n",
    "        'Adams County': 'Eastern Washington','Asotin County': 'Eastern Washington','Benton County': 'Eastern Washington',\n",
    "        'Chelan County': 'Eastern Washington','Columbia County': 'Eastern Washington','Douglas County': 'Eastern Washington',\n",
    "        'Ferry County': 'Eastern Washington','Franklin County': 'Eastern Washington','Garfield County': 'Eastern Washington',\n",
    "        'Grant County': 'Eastern Washington','Kittitas County': 'Eastern Washington','Klickitat County': 'Eastern Washington',\n",
    "        'Lincoln County': 'Eastern Washington','Okanogan County': 'Eastern Washington','Pend Oreille County': 'Eastern Washington',\n",
    "        'Spokane County': 'Eastern Washington','Stevens County': 'Eastern Washington','Walla Walla County': 'Eastern Washington',\n",
    "        'Whitman County': 'Eastern Washington','Yakima County': 'Eastern Washington','Thurston County':'Western Region',\n",
    "        'Lewis County': 'Western Region','Grays Harbor County': 'Western Region','Pacific County': 'Southwest Washington',\n",
    "        'Seattle, Bellevue, Everett': 'Western Region','Tacoma, Lakewood':'Northern Cascades','Portland, Vancouver, Hillsboro':'Northern Cascades',\n",
    "        'Spokane, Spokane Valley':'Eastern Washington'\n",
    "    }\n",
    "\n",
    "    # Add a new column to your dataframe containing the region for each county\n",
    "    data['Region'] = data['county_name'].map(county_to_region)\n",
    "    \n",
    "    # Drop rows with missing values in \"county_name\" column\n",
    "    data = data.dropna(subset=['county_name'])\n",
    "\n",
    "    # Create new column \"loan_status\" based on \"action_taken_name\"\n",
    "    data['loan_status'] = np.where(data['action_taken_name'] == 'Loan originated', 'approved', 'not approved')\n",
    "\n",
    "    # Drop irrelevant columns\n",
    "    drop_cols = ['applicant_race_name_5', 'applicant_race_name_4', 'applicant_race_name_3',\n",
    "                 'applicant_race_name_2', 'co_applicant_race_name_5', 'co_applicant_race_name_4',\n",
    "                 'co_applicant_race_name_3', 'co_applicant_race_name_2', 'denial_reason_name_3',\n",
    "                 'denial_reason_name_2', 'denial_reason_name_1', 'rate_spread', 'edit_status_name',\n",
    "                 'state_abbr', 'respondent_id', 'agency_abbr', 'as_of_year', 'application_date_indicator',\n",
    "                 'state_name', 'sequence_number', 'census_tract_number', 'action_taken_name', 'purchaser_type_name',\n",
    "                 'county_name','msamd_name']\n",
    "    \n",
    "    data = data.drop(columns=drop_cols)\n",
    "\n",
    "    # Winsorize numeric columns\n",
    "    data.select_dtypes(exclude=['object']).apply(lambda x: winsorize(x, limits=[0.05, 0.05]), axis=0, raw=True)\n",
    "\n",
    "    # create a list of columns to be converted\n",
    "    cols_to_convert = [\n",
    "        'tract_to_msamd_income','population','minority_population','number_of_owner_occupied_units',\n",
    "        'number_of_1_to_4_family_units','loan_amount_000s','hud_median_family_income','applicant_income_000s'\n",
    "    ]\n",
    "\n",
    "    # use the astype() method to convert the dtype of columns\n",
    "    data[cols_to_convert] = data[cols_to_convert].astype('float')\n",
    "\n",
    "    return data"
   ]
  }
 ],
 "metadata": {
  "kernelspec": {
   "display_name": "Python 3 (ipykernel)",
   "language": "python",
   "name": "python3"
  },
  "language_info": {
   "codemirror_mode": {
    "name": "ipython",
    "version": 3
   },
   "file_extension": ".py",
   "mimetype": "text/x-python",
   "name": "python",
   "nbconvert_exporter": "python",
   "pygments_lexer": "ipython3",
   "version": "3.10.6"
  },
  "toc": {
   "base_numbering": 1,
   "nav_menu": {},
   "number_sections": true,
   "sideBar": true,
   "skip_h1_title": false,
   "title_cell": "Table of Contents",
   "title_sidebar": "Contents",
   "toc_cell": false,
   "toc_position": {},
   "toc_section_display": true,
   "toc_window_display": false
  }
 },
 "nbformat": 4,
 "nbformat_minor": 5
}
