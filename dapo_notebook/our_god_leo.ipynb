{
 "cells": [
  {
   "cell_type": "code",
   "execution_count": 1,
   "id": "03e19783",
   "metadata": {},
   "outputs": [],
   "source": [
    "import pandas as pd\n",
    "import xgboost as xgb\n",
    "from sklearn import set_config\n",
    "\n",
    "# --- Defined Functions ---\n",
    "import sys\n",
    "sys.path.append('/home/adedapo/code/roski10/Project_Mortgages/ml_logic/')\n",
    "\n",
    "from clean_data import clean_data\n",
    "from preprocessing import preprocess_and_resample\n",
    "from model import train_and_evaluate_model"
   ]
  },
  {
   "cell_type": "code",
   "execution_count": 2,
   "id": "ca41e35d",
   "metadata": {},
   "outputs": [
    {
     "name": "stderr",
     "output_type": "stream",
     "text": [
      "/tmp/ipykernel_5532/3324793442.py:2: DtypeWarning: Columns (1,23,24,25,28,29,30,38,39,40) have mixed types. Specify dtype option on import or set low_memory=False.\n",
      "  data_original = pd.read_csv(file, decimal=',')\n"
     ]
    }
   ],
   "source": [
    "file ='raw_data/Washington_State_HDMA-2016.csv'\n",
    "data_original = pd.read_csv(file, decimal=',')"
   ]
  },
  {
   "cell_type": "code",
   "execution_count": 3,
   "id": "671cb0aa",
   "metadata": {},
   "outputs": [
    {
     "name": "stdout",
     "output_type": "stream",
     "text": [
      "\n",
      "✅ data cleaned\n"
     ]
    }
   ],
   "source": [
    "data = clean_data(data_original)"
   ]
  },
  {
   "cell_type": "code",
   "execution_count": 4,
   "id": "dfbcbb5e",
   "metadata": {},
   "outputs": [
    {
     "data": {
      "text/plain": [
       "['tract_to_msamd_income',\n",
       " 'population',\n",
       " 'minority_population',\n",
       " 'number_of_owner_occupied_units',\n",
       " 'number_of_1_to_4_family_units',\n",
       " 'loan_amount_000s',\n",
       " 'hud_median_family_income',\n",
       " 'applicant_income_000s',\n",
       " 'property_type_name',\n",
       " 'preapproval_name',\n",
       " 'owner_occupancy_name',\n",
       " 'loan_type_name',\n",
       " 'loan_purpose_name',\n",
       " 'lien_status_name',\n",
       " 'hoepa_status_name',\n",
       " 'co_applicant_sex_name',\n",
       " 'co_applicant_race_name_1',\n",
       " 'co_applicant_ethnicity_name',\n",
       " 'applicant_sex_name',\n",
       " 'applicant_race_name_1',\n",
       " 'applicant_ethnicity_name',\n",
       " 'region',\n",
       " 'loan_status']"
      ]
     },
     "execution_count": 4,
     "metadata": {},
     "output_type": "execute_result"
    }
   ],
   "source": [
    "data.columns.to_list()"
   ]
  },
  {
   "cell_type": "code",
   "execution_count": 5,
   "id": "6ba169b5",
   "metadata": {},
   "outputs": [
    {
     "name": "stdout",
     "output_type": "stream",
     "text": [
      "\n",
      "✅ X_train_sm, with shape (310932, 61)\n",
      "✅ X_test_processed, with shape (84968, 61)\n",
      "✅ y_train_sm, with shape (310932,)\n",
      "✅ y_test, with shape (84968,)\n"
     ]
    }
   ],
   "source": [
    "X_train, X_test, y_train, y_test = preprocess_and_resample(data)"
   ]
  },
  {
   "cell_type": "code",
   "execution_count": 6,
   "id": "e2f14dfb",
   "metadata": {},
   "outputs": [
    {
     "data": {
      "text/plain": [
       "['tract_to_msamd_income',\n",
       " 'population',\n",
       " 'minority_population',\n",
       " 'number_of_owner_occupied_units',\n",
       " 'number_of_1_to_4_family_units',\n",
       " 'loan_amount_000s',\n",
       " 'hud_median_family_income',\n",
       " 'applicant_income_000s',\n",
       " 'property_type_name_Manufactured housing',\n",
       " 'property_type_name_Multifamily dwelling',\n",
       " 'property_type_name_One-to-four family dwelling (other than manufactured housing)',\n",
       " 'preapproval_name_Not applicable',\n",
       " 'preapproval_name_Preapproval was not requested',\n",
       " 'preapproval_name_Preapproval was requested',\n",
       " 'owner_occupancy_name_Not applicable',\n",
       " 'owner_occupancy_name_Not owner-occupied as a principal dwelling',\n",
       " 'owner_occupancy_name_Owner-occupied as a principal dwelling',\n",
       " 'loan_type_name_Conventional',\n",
       " 'loan_type_name_FHA-insured',\n",
       " 'loan_type_name_FSA/RHS-guaranteed',\n",
       " 'loan_type_name_VA-guaranteed',\n",
       " 'loan_purpose_name_Home improvement',\n",
       " 'loan_purpose_name_Home purchase',\n",
       " 'loan_purpose_name_Refinancing',\n",
       " 'lien_status_name_Not secured by a lien',\n",
       " 'lien_status_name_Secured by a first lien',\n",
       " 'lien_status_name_Secured by a subordinate lien',\n",
       " 'hoepa_status_name_HOEPA loan',\n",
       " 'hoepa_status_name_Not a HOEPA loan',\n",
       " 'co_applicant_sex_name_Female',\n",
       " 'co_applicant_sex_name_Male',\n",
       " 'co_applicant_sex_name_No co-applicant',\n",
       " 'co_applicant_sex_name_Not applicable',\n",
       " 'co_applicant_race_name_1_American Indian or Alaska Native',\n",
       " 'co_applicant_race_name_1_Asian',\n",
       " 'co_applicant_race_name_1_Black or African American',\n",
       " 'co_applicant_race_name_1_Native Hawaiian or Other Pacific Islander',\n",
       " 'co_applicant_race_name_1_No co-applicant',\n",
       " 'co_applicant_race_name_1_Not applicable',\n",
       " 'co_applicant_race_name_1_White',\n",
       " 'co_applicant_ethnicity_name_Hispanic or Latino',\n",
       " 'co_applicant_ethnicity_name_No co-applicant',\n",
       " 'co_applicant_ethnicity_name_Not Hispanic or Latino',\n",
       " 'co_applicant_ethnicity_name_Not applicable',\n",
       " 'applicant_sex_name_Female',\n",
       " 'applicant_sex_name_Male',\n",
       " 'applicant_sex_name_Not applicable',\n",
       " 'applicant_race_name_1_American Indian or Alaska Native',\n",
       " 'applicant_race_name_1_Asian',\n",
       " 'applicant_race_name_1_Black or African American',\n",
       " 'applicant_race_name_1_Native Hawaiian or Other Pacific Islander',\n",
       " 'applicant_race_name_1_Not applicable',\n",
       " 'applicant_race_name_1_White',\n",
       " 'applicant_ethnicity_name_Hispanic or Latino',\n",
       " 'applicant_ethnicity_name_Not Hispanic or Latino',\n",
       " 'applicant_ethnicity_name_Not applicable',\n",
       " 'region_Eastern Washington',\n",
       " 'region_Northern Cascades',\n",
       " 'region_Olympic Peninsula',\n",
       " 'region_Southwest Washington',\n",
       " 'region_Western Region']"
      ]
     },
     "execution_count": 6,
     "metadata": {},
     "output_type": "execute_result"
    }
   ],
   "source": [
    "X_train.columns.to_list()"
   ]
  },
  {
   "cell_type": "code",
   "execution_count": 7,
   "id": "4e39ca58",
   "metadata": {},
   "outputs": [
    {
     "name": "stdout",
     "output_type": "stream",
     "text": [
      "\n",
      "✅ Model trained on 310932 rows of training data.\n",
      "\n",
      "✅ Accuracy score: 0.7839\n",
      "\n",
      "✅ Classification report:\n",
      "              precision    recall  f1-score   support\n",
      "\n",
      "           0       0.50      0.29      0.37     18441\n",
      "           1       0.82      0.92      0.87     66527\n",
      "\n",
      "    accuracy                           0.78     84968\n",
      "   macro avg       0.66      0.61      0.62     84968\n",
      "weighted avg       0.75      0.78      0.76     84968\n",
      "\n"
     ]
    }
   ],
   "source": [
    "model, y_pred = train_and_evaluate_model(X_train, X_test, y_train, y_test)"
   ]
  },
  {
   "cell_type": "code",
   "execution_count": 8,
   "id": "bd780720",
   "metadata": {},
   "outputs": [
    {
     "data": {
      "text/plain": [
       "array([0, 1, 1, ..., 1, 1, 0])"
      ]
     },
     "execution_count": 8,
     "metadata": {},
     "output_type": "execute_result"
    }
   ],
   "source": [
    "y_pred"
   ]
  },
  {
   "cell_type": "code",
   "execution_count": 9,
   "id": "a5dd8840",
   "metadata": {},
   "outputs": [
    {
     "data": {
      "text/html": [
       "<style>#sk-container-id-1 {color: black;background-color: white;}#sk-container-id-1 pre{padding: 0;}#sk-container-id-1 div.sk-toggleable {background-color: white;}#sk-container-id-1 label.sk-toggleable__label {cursor: pointer;display: block;width: 100%;margin-bottom: 0;padding: 0.3em;box-sizing: border-box;text-align: center;}#sk-container-id-1 label.sk-toggleable__label-arrow:before {content: \"▸\";float: left;margin-right: 0.25em;color: #696969;}#sk-container-id-1 label.sk-toggleable__label-arrow:hover:before {color: black;}#sk-container-id-1 div.sk-estimator:hover label.sk-toggleable__label-arrow:before {color: black;}#sk-container-id-1 div.sk-toggleable__content {max-height: 0;max-width: 0;overflow: hidden;text-align: left;background-color: #f0f8ff;}#sk-container-id-1 div.sk-toggleable__content pre {margin: 0.2em;color: black;border-radius: 0.25em;background-color: #f0f8ff;}#sk-container-id-1 input.sk-toggleable__control:checked~div.sk-toggleable__content {max-height: 200px;max-width: 100%;overflow: auto;}#sk-container-id-1 input.sk-toggleable__control:checked~label.sk-toggleable__label-arrow:before {content: \"▾\";}#sk-container-id-1 div.sk-estimator input.sk-toggleable__control:checked~label.sk-toggleable__label {background-color: #d4ebff;}#sk-container-id-1 div.sk-label input.sk-toggleable__control:checked~label.sk-toggleable__label {background-color: #d4ebff;}#sk-container-id-1 input.sk-hidden--visually {border: 0;clip: rect(1px 1px 1px 1px);clip: rect(1px, 1px, 1px, 1px);height: 1px;margin: -1px;overflow: hidden;padding: 0;position: absolute;width: 1px;}#sk-container-id-1 div.sk-estimator {font-family: monospace;background-color: #f0f8ff;border: 1px dotted black;border-radius: 0.25em;box-sizing: border-box;margin-bottom: 0.5em;}#sk-container-id-1 div.sk-estimator:hover {background-color: #d4ebff;}#sk-container-id-1 div.sk-parallel-item::after {content: \"\";width: 100%;border-bottom: 1px solid gray;flex-grow: 1;}#sk-container-id-1 div.sk-label:hover label.sk-toggleable__label {background-color: #d4ebff;}#sk-container-id-1 div.sk-serial::before {content: \"\";position: absolute;border-left: 1px solid gray;box-sizing: border-box;top: 0;bottom: 0;left: 50%;z-index: 0;}#sk-container-id-1 div.sk-serial {display: flex;flex-direction: column;align-items: center;background-color: white;padding-right: 0.2em;padding-left: 0.2em;position: relative;}#sk-container-id-1 div.sk-item {position: relative;z-index: 1;}#sk-container-id-1 div.sk-parallel {display: flex;align-items: stretch;justify-content: center;background-color: white;position: relative;}#sk-container-id-1 div.sk-item::before, #sk-container-id-1 div.sk-parallel-item::before {content: \"\";position: absolute;border-left: 1px solid gray;box-sizing: border-box;top: 0;bottom: 0;left: 50%;z-index: -1;}#sk-container-id-1 div.sk-parallel-item {display: flex;flex-direction: column;z-index: 1;position: relative;background-color: white;}#sk-container-id-1 div.sk-parallel-item:first-child::after {align-self: flex-end;width: 50%;}#sk-container-id-1 div.sk-parallel-item:last-child::after {align-self: flex-start;width: 50%;}#sk-container-id-1 div.sk-parallel-item:only-child::after {width: 0;}#sk-container-id-1 div.sk-dashed-wrapped {border: 1px dashed gray;margin: 0 0.4em 0.5em 0.4em;box-sizing: border-box;padding-bottom: 0.4em;background-color: white;}#sk-container-id-1 div.sk-label label {font-family: monospace;font-weight: bold;display: inline-block;line-height: 1.2em;}#sk-container-id-1 div.sk-label-container {text-align: center;}#sk-container-id-1 div.sk-container {/* jupyter's `normalize.less` sets `[hidden] { display: none; }` but bootstrap.min.css set `[hidden] { display: none !important; }` so we also need the `!important` here to be able to override the default hidden behavior on the sphinx rendered scikit-learn.org. See: https://github.com/scikit-learn/scikit-learn/issues/21755 */display: inline-block !important;position: relative;}#sk-container-id-1 div.sk-text-repr-fallback {display: none;}</style><div id=\"sk-container-id-1\" class=\"sk-top-container\"><div class=\"sk-text-repr-fallback\"><pre>XGBClassifier(base_score=0.5, booster=&#x27;gbtree&#x27;, callbacks=None,\n",
       "              colsample_bylevel=1, colsample_bynode=1, colsample_bytree=1,\n",
       "              early_stopping_rounds=None, enable_categorical=False,\n",
       "              eval_metric=None, gamma=0, gpu_id=-1, grow_policy=&#x27;depthwise&#x27;,\n",
       "              importance_type=None, interaction_constraints=&#x27;&#x27;,\n",
       "              learning_rate=0.3, max_bin=256, max_cat_to_onehot=4,\n",
       "              max_delta_step=0, max_depth=6, max_leaves=0, min_child_weight=1,\n",
       "              missing=nan, monotone_constraints=&#x27;()&#x27;, n_estimators=200,\n",
       "              n_jobs=0, num_parallel_tree=1, predictor=&#x27;auto&#x27;, random_state=0,\n",
       "              reg_alpha=0.1, reg_lambda=0.5, ...)</pre><b>In a Jupyter environment, please rerun this cell to show the HTML representation or trust the notebook. <br />On GitHub, the HTML representation is unable to render, please try loading this page with nbviewer.org.</b></div><div class=\"sk-container\" hidden><div class=\"sk-item\"><div class=\"sk-estimator sk-toggleable\"><input class=\"sk-toggleable__control sk-hidden--visually\" id=\"sk-estimator-id-1\" type=\"checkbox\" checked><label for=\"sk-estimator-id-1\" class=\"sk-toggleable__label sk-toggleable__label-arrow\">XGBClassifier</label><div class=\"sk-toggleable__content\"><pre>XGBClassifier(base_score=0.5, booster=&#x27;gbtree&#x27;, callbacks=None,\n",
       "              colsample_bylevel=1, colsample_bynode=1, colsample_bytree=1,\n",
       "              early_stopping_rounds=None, enable_categorical=False,\n",
       "              eval_metric=None, gamma=0, gpu_id=-1, grow_policy=&#x27;depthwise&#x27;,\n",
       "              importance_type=None, interaction_constraints=&#x27;&#x27;,\n",
       "              learning_rate=0.3, max_bin=256, max_cat_to_onehot=4,\n",
       "              max_delta_step=0, max_depth=6, max_leaves=0, min_child_weight=1,\n",
       "              missing=nan, monotone_constraints=&#x27;()&#x27;, n_estimators=200,\n",
       "              n_jobs=0, num_parallel_tree=1, predictor=&#x27;auto&#x27;, random_state=0,\n",
       "              reg_alpha=0.1, reg_lambda=0.5, ...)</pre></div></div></div></div></div>"
      ],
      "text/plain": [
       "XGBClassifier(base_score=0.5, booster='gbtree', callbacks=None,\n",
       "              colsample_bylevel=1, colsample_bynode=1, colsample_bytree=1,\n",
       "              early_stopping_rounds=None, enable_categorical=False,\n",
       "              eval_metric=None, gamma=0, gpu_id=-1, grow_policy='depthwise',\n",
       "              importance_type=None, interaction_constraints='',\n",
       "              learning_rate=0.3, max_bin=256, max_cat_to_onehot=4,\n",
       "              max_delta_step=0, max_depth=6, max_leaves=0, min_child_weight=1,\n",
       "              missing=nan, monotone_constraints='()', n_estimators=200,\n",
       "              n_jobs=0, num_parallel_tree=1, predictor='auto', random_state=0,\n",
       "              reg_alpha=0.1, reg_lambda=0.5, ...)"
      ]
     },
     "execution_count": 9,
     "metadata": {},
     "output_type": "execute_result"
    }
   ],
   "source": [
    "model"
   ]
  },
  {
   "cell_type": "code",
   "execution_count": 10,
   "id": "dd2c4853",
   "metadata": {},
   "outputs": [],
   "source": [
    "# import joblib\n",
    "# xgb = joblib.load(\"xgbmodel.pkl\")\n",
    "# xgb"
   ]
  },
  {
   "cell_type": "code",
   "execution_count": 11,
   "id": "75927d3f",
   "metadata": {},
   "outputs": [],
   "source": [
    "# xgb.predict(X_test)"
   ]
  },
  {
   "cell_type": "code",
   "execution_count": null,
   "id": "46c85cd0",
   "metadata": {},
   "outputs": [],
   "source": []
  }
 ],
 "metadata": {
  "kernelspec": {
   "display_name": "Python 3 (ipykernel)",
   "language": "python",
   "name": "python3"
  },
  "language_info": {
   "codemirror_mode": {
    "name": "ipython",
    "version": 3
   },
   "file_extension": ".py",
   "mimetype": "text/x-python",
   "name": "python",
   "nbconvert_exporter": "python",
   "pygments_lexer": "ipython3",
   "version": "3.10.6"
  },
  "toc": {
   "base_numbering": 1,
   "nav_menu": {},
   "number_sections": true,
   "sideBar": true,
   "skip_h1_title": false,
   "title_cell": "Table of Contents",
   "title_sidebar": "Contents",
   "toc_cell": false,
   "toc_position": {},
   "toc_section_display": true,
   "toc_window_display": false
  }
 },
 "nbformat": 4,
 "nbformat_minor": 5
}
